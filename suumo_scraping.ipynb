{
 "cells": [
  {
   "cell_type": "markdown",
   "metadata": {},
   "source": [
    "### 東京都文京区物件スクレイピング\n",
    "\n",
    "参考文献\n",
    "スクレイピング動画\n",
    "- https://www.youtube.com/watch?v=l9KRgSUeNXk\n",
    "- https://www.youtube.com/watch?v=gixuk9qFpRg\n",
    "- https://www.youtube.com/watch?v=_H9bdFOZ4vs\n",
    "- https://www.youtube.com/watch?v=Lq4xHWnT_KE\n",
    "\n",
    "スプレッドシート動画\n",
    "- https://youtu.be/fFSGPciIkfI?si=MQ4wrvIiFpmwgdCR"
   ]
  },
  {
   "cell_type": "code",
   "execution_count": 18,
   "metadata": {},
   "outputs": [],
   "source": [
    "#ライブラリのインポート\n",
    "from bs4 import BeautifulSoup\n",
    "import re #不要文字削除\n",
    "import requests\n",
    "from time import sleep\n",
    "from tqdm import tqdm   #for文の進捗確認\n",
    "import pandas as pd"
   ]
  },
  {
   "cell_type": "code",
   "execution_count": 19,
   "metadata": {},
   "outputs": [],
   "source": [
    "# 最後のページの数値を取得\n",
    "url = 'https://suumo.jp/chintai/tokyo/sc_bunkyo/?page={}'\n",
    "res = requests.get(url.format(1))\n",
    "#1ページ目のページネーションに全ページの番号が表示される\n",
    "#1ページ目のページネーション部分をスクレイピングし、その中の最後の要素（最後のページ番号）を取得\n",
    "res.encoding = 'utf-8'\n",
    "soup = BeautifulSoup(res.text, 'html.parser')\n",
    "last_page = int(soup.find('ol', class_='pagination-parts').find_all('li')[-1].text)\n",
    "#[-1]でページネーションのリストから最後の要素を取得\n",
    "#textでページ番号を取得\n",
    "#intで整数型に変換"
   ]
  },
  {
   "cell_type": "code",
   "execution_count": 20,
   "metadata": {},
   "outputs": [],
   "source": [
    "#空のリストを作成\n",
    "data_list = []"
   ]
  },
  {
   "cell_type": "code",
   "execution_count": 21,
   "metadata": {},
   "outputs": [
    {
     "name": "stderr",
     "output_type": "stream",
     "text": [
      "  0%|          | 0/171 [00:00<?, ?it/s]"
     ]
    },
    {
     "name": "stdout",
     "output_type": "stream",
     "text": [
      "data_listの大きさ: 0\n",
      "https://suumo.jp/chintai/tokyo/sc_bunkyo/?page=1\n"
     ]
    },
    {
     "name": "stderr",
     "output_type": "stream",
     "text": [
      "  1%|          | 1/171 [00:02<07:31,  2.65s/it]"
     ]
    },
    {
     "name": "stdout",
     "output_type": "stream",
     "text": [
      "data_listの大きさ: 106\n",
      "https://suumo.jp/chintai/tokyo/sc_bunkyo/?page=2\n"
     ]
    },
    {
     "name": "stderr",
     "output_type": "stream",
     "text": [
      "  1%|          | 2/171 [00:05<07:12,  2.56s/it]"
     ]
    },
    {
     "name": "stdout",
     "output_type": "stream",
     "text": [
      "data_listの大きさ: 187\n",
      "https://suumo.jp/chintai/tokyo/sc_bunkyo/?page=3\n"
     ]
    },
    {
     "name": "stderr",
     "output_type": "stream",
     "text": [
      "  2%|▏         | 3/171 [00:07<06:27,  2.31s/it]"
     ]
    },
    {
     "name": "stdout",
     "output_type": "stream",
     "text": [
      "data_listの大きさ: 226\n",
      "https://suumo.jp/chintai/tokyo/sc_bunkyo/?page=4\n"
     ]
    },
    {
     "name": "stderr",
     "output_type": "stream",
     "text": [
      "  2%|▏         | 4/171 [00:09<06:35,  2.37s/it]"
     ]
    },
    {
     "name": "stdout",
     "output_type": "stream",
     "text": [
      "data_listの大きさ: 304\n",
      "https://suumo.jp/chintai/tokyo/sc_bunkyo/?page=5\n"
     ]
    },
    {
     "name": "stderr",
     "output_type": "stream",
     "text": [
      "  3%|▎         | 5/171 [00:11<06:20,  2.29s/it]"
     ]
    },
    {
     "name": "stdout",
     "output_type": "stream",
     "text": [
      "data_listの大きさ: 387\n",
      "https://suumo.jp/chintai/tokyo/sc_bunkyo/?page=6\n"
     ]
    },
    {
     "name": "stderr",
     "output_type": "stream",
     "text": [
      "  4%|▎         | 6/171 [00:14<06:24,  2.33s/it]"
     ]
    },
    {
     "name": "stdout",
     "output_type": "stream",
     "text": [
      "data_listの大きさ: 513\n",
      "https://suumo.jp/chintai/tokyo/sc_bunkyo/?page=7\n"
     ]
    },
    {
     "name": "stderr",
     "output_type": "stream",
     "text": [
      "  4%|▍         | 7/171 [00:16<06:27,  2.36s/it]"
     ]
    },
    {
     "name": "stdout",
     "output_type": "stream",
     "text": [
      "data_listの大きさ: 623\n",
      "https://suumo.jp/chintai/tokyo/sc_bunkyo/?page=8\n"
     ]
    },
    {
     "name": "stderr",
     "output_type": "stream",
     "text": [
      "  5%|▍         | 8/171 [00:20<07:19,  2.69s/it]"
     ]
    },
    {
     "name": "stdout",
     "output_type": "stream",
     "text": [
      "data_listの大きさ: 723\n",
      "https://suumo.jp/chintai/tokyo/sc_bunkyo/?page=9\n"
     ]
    },
    {
     "name": "stderr",
     "output_type": "stream",
     "text": [
      "  5%|▌         | 9/171 [00:23<07:40,  2.84s/it]"
     ]
    },
    {
     "name": "stdout",
     "output_type": "stream",
     "text": [
      "data_listの大きさ: 776\n",
      "https://suumo.jp/chintai/tokyo/sc_bunkyo/?page=10\n"
     ]
    },
    {
     "name": "stderr",
     "output_type": "stream",
     "text": [
      "  6%|▌         | 10/171 [00:25<07:23,  2.75s/it]"
     ]
    },
    {
     "name": "stdout",
     "output_type": "stream",
     "text": [
      "data_listの大きさ: 845\n",
      "https://suumo.jp/chintai/tokyo/sc_bunkyo/?page=11\n"
     ]
    },
    {
     "name": "stderr",
     "output_type": "stream",
     "text": [
      "  6%|▋         | 11/171 [00:28<07:37,  2.86s/it]"
     ]
    },
    {
     "name": "stdout",
     "output_type": "stream",
     "text": [
      "data_listの大きさ: 1010\n",
      "https://suumo.jp/chintai/tokyo/sc_bunkyo/?page=12\n"
     ]
    },
    {
     "name": "stderr",
     "output_type": "stream",
     "text": [
      "  7%|▋         | 12/171 [00:31<07:14,  2.73s/it]"
     ]
    },
    {
     "name": "stdout",
     "output_type": "stream",
     "text": [
      "data_listの大きさ: 1068\n",
      "https://suumo.jp/chintai/tokyo/sc_bunkyo/?page=13\n"
     ]
    },
    {
     "name": "stderr",
     "output_type": "stream",
     "text": [
      "  8%|▊         | 13/171 [00:33<06:47,  2.58s/it]"
     ]
    },
    {
     "name": "stdout",
     "output_type": "stream",
     "text": [
      "data_listの大きさ: 1141\n",
      "https://suumo.jp/chintai/tokyo/sc_bunkyo/?page=14\n"
     ]
    },
    {
     "name": "stderr",
     "output_type": "stream",
     "text": [
      "  8%|▊         | 14/171 [00:35<06:40,  2.55s/it]"
     ]
    },
    {
     "name": "stdout",
     "output_type": "stream",
     "text": [
      "data_listの大きさ: 1215\n",
      "https://suumo.jp/chintai/tokyo/sc_bunkyo/?page=15\n"
     ]
    },
    {
     "name": "stderr",
     "output_type": "stream",
     "text": [
      "  9%|▉         | 15/171 [00:38<06:22,  2.45s/it]"
     ]
    },
    {
     "name": "stdout",
     "output_type": "stream",
     "text": [
      "data_listの大きさ: 1289\n",
      "https://suumo.jp/chintai/tokyo/sc_bunkyo/?page=16\n"
     ]
    },
    {
     "name": "stderr",
     "output_type": "stream",
     "text": [
      "  9%|▉         | 16/171 [00:40<06:01,  2.33s/it]"
     ]
    },
    {
     "name": "stdout",
     "output_type": "stream",
     "text": [
      "data_listの大きさ: 1350\n",
      "https://suumo.jp/chintai/tokyo/sc_bunkyo/?page=17\n"
     ]
    },
    {
     "name": "stderr",
     "output_type": "stream",
     "text": [
      " 10%|▉         | 17/171 [00:42<05:52,  2.29s/it]"
     ]
    },
    {
     "name": "stdout",
     "output_type": "stream",
     "text": [
      "data_listの大きさ: 1405\n",
      "https://suumo.jp/chintai/tokyo/sc_bunkyo/?page=18\n"
     ]
    },
    {
     "name": "stderr",
     "output_type": "stream",
     "text": [
      " 11%|█         | 18/171 [00:44<05:45,  2.26s/it]"
     ]
    },
    {
     "name": "stdout",
     "output_type": "stream",
     "text": [
      "data_listの大きさ: 1448\n",
      "https://suumo.jp/chintai/tokyo/sc_bunkyo/?page=19\n"
     ]
    },
    {
     "name": "stderr",
     "output_type": "stream",
     "text": [
      " 11%|█         | 19/171 [00:46<05:41,  2.25s/it]"
     ]
    },
    {
     "name": "stdout",
     "output_type": "stream",
     "text": [
      "data_listの大きさ: 1506\n",
      "https://suumo.jp/chintai/tokyo/sc_bunkyo/?page=20\n"
     ]
    },
    {
     "name": "stderr",
     "output_type": "stream",
     "text": [
      " 12%|█▏        | 20/171 [00:48<05:28,  2.18s/it]"
     ]
    },
    {
     "name": "stdout",
     "output_type": "stream",
     "text": [
      "data_listの大きさ: 1555\n",
      "https://suumo.jp/chintai/tokyo/sc_bunkyo/?page=21\n"
     ]
    },
    {
     "name": "stderr",
     "output_type": "stream",
     "text": [
      " 12%|█▏        | 21/171 [00:51<05:33,  2.22s/it]"
     ]
    },
    {
     "name": "stdout",
     "output_type": "stream",
     "text": [
      "data_listの大きさ: 1608\n",
      "https://suumo.jp/chintai/tokyo/sc_bunkyo/?page=22\n"
     ]
    },
    {
     "name": "stderr",
     "output_type": "stream",
     "text": [
      " 13%|█▎        | 22/171 [00:53<05:26,  2.19s/it]"
     ]
    },
    {
     "name": "stdout",
     "output_type": "stream",
     "text": [
      "data_listの大きさ: 1643\n",
      "https://suumo.jp/chintai/tokyo/sc_bunkyo/?page=23\n"
     ]
    },
    {
     "name": "stderr",
     "output_type": "stream",
     "text": [
      " 13%|█▎        | 23/171 [00:55<05:18,  2.15s/it]"
     ]
    },
    {
     "name": "stdout",
     "output_type": "stream",
     "text": [
      "data_listの大きさ: 1683\n",
      "https://suumo.jp/chintai/tokyo/sc_bunkyo/?page=24\n"
     ]
    },
    {
     "name": "stderr",
     "output_type": "stream",
     "text": [
      " 14%|█▍        | 24/171 [00:57<05:15,  2.14s/it]"
     ]
    },
    {
     "name": "stdout",
     "output_type": "stream",
     "text": [
      "data_listの大きさ: 1723\n",
      "https://suumo.jp/chintai/tokyo/sc_bunkyo/?page=25\n"
     ]
    },
    {
     "name": "stderr",
     "output_type": "stream",
     "text": [
      " 15%|█▍        | 25/171 [00:59<05:13,  2.15s/it]"
     ]
    },
    {
     "name": "stdout",
     "output_type": "stream",
     "text": [
      "data_listの大きさ: 1788\n",
      "https://suumo.jp/chintai/tokyo/sc_bunkyo/?page=26\n"
     ]
    },
    {
     "name": "stderr",
     "output_type": "stream",
     "text": [
      " 15%|█▌        | 26/171 [01:02<05:29,  2.27s/it]"
     ]
    },
    {
     "name": "stdout",
     "output_type": "stream",
     "text": [
      "data_listの大きさ: 1828\n",
      "https://suumo.jp/chintai/tokyo/sc_bunkyo/?page=27\n"
     ]
    },
    {
     "name": "stderr",
     "output_type": "stream",
     "text": [
      " 16%|█▌        | 27/171 [01:04<05:19,  2.22s/it]"
     ]
    },
    {
     "name": "stdout",
     "output_type": "stream",
     "text": [
      "data_listの大きさ: 1873\n",
      "https://suumo.jp/chintai/tokyo/sc_bunkyo/?page=28\n"
     ]
    },
    {
     "name": "stderr",
     "output_type": "stream",
     "text": [
      " 16%|█▋        | 28/171 [01:06<05:09,  2.16s/it]"
     ]
    },
    {
     "name": "stdout",
     "output_type": "stream",
     "text": [
      "data_listの大きさ: 1929\n",
      "https://suumo.jp/chintai/tokyo/sc_bunkyo/?page=29\n"
     ]
    },
    {
     "name": "stderr",
     "output_type": "stream",
     "text": [
      " 17%|█▋        | 29/171 [01:08<05:02,  2.13s/it]"
     ]
    },
    {
     "name": "stdout",
     "output_type": "stream",
     "text": [
      "data_listの大きさ: 1979\n",
      "https://suumo.jp/chintai/tokyo/sc_bunkyo/?page=30\n"
     ]
    },
    {
     "name": "stderr",
     "output_type": "stream",
     "text": [
      " 18%|█▊        | 30/171 [01:10<05:08,  2.19s/it]"
     ]
    },
    {
     "name": "stdout",
     "output_type": "stream",
     "text": [
      "data_listの大きさ: 2036\n",
      "https://suumo.jp/chintai/tokyo/sc_bunkyo/?page=31\n"
     ]
    },
    {
     "name": "stderr",
     "output_type": "stream",
     "text": [
      " 18%|█▊        | 31/171 [01:12<04:53,  2.10s/it]"
     ]
    },
    {
     "name": "stdout",
     "output_type": "stream",
     "text": [
      "data_listの大きさ: 2077\n",
      "https://suumo.jp/chintai/tokyo/sc_bunkyo/?page=32\n"
     ]
    },
    {
     "name": "stderr",
     "output_type": "stream",
     "text": [
      " 19%|█▊        | 32/171 [01:14<04:46,  2.06s/it]"
     ]
    },
    {
     "name": "stdout",
     "output_type": "stream",
     "text": [
      "data_listの大きさ: 2137\n",
      "https://suumo.jp/chintai/tokyo/sc_bunkyo/?page=33\n"
     ]
    },
    {
     "name": "stderr",
     "output_type": "stream",
     "text": [
      " 19%|█▉        | 33/171 [01:16<04:46,  2.07s/it]"
     ]
    },
    {
     "name": "stdout",
     "output_type": "stream",
     "text": [
      "data_listの大きさ: 2175\n",
      "https://suumo.jp/chintai/tokyo/sc_bunkyo/?page=34\n"
     ]
    },
    {
     "name": "stderr",
     "output_type": "stream",
     "text": [
      " 20%|█▉        | 34/171 [01:19<04:54,  2.15s/it]"
     ]
    },
    {
     "name": "stdout",
     "output_type": "stream",
     "text": [
      "data_listの大きさ: 2258\n",
      "https://suumo.jp/chintai/tokyo/sc_bunkyo/?page=35\n"
     ]
    },
    {
     "name": "stderr",
     "output_type": "stream",
     "text": [
      " 20%|██        | 35/171 [01:21<04:48,  2.12s/it]"
     ]
    },
    {
     "name": "stdout",
     "output_type": "stream",
     "text": [
      "data_listの大きさ: 2329\n",
      "https://suumo.jp/chintai/tokyo/sc_bunkyo/?page=36\n"
     ]
    },
    {
     "name": "stderr",
     "output_type": "stream",
     "text": [
      " 21%|██        | 36/171 [01:23<04:39,  2.07s/it]"
     ]
    },
    {
     "name": "stdout",
     "output_type": "stream",
     "text": [
      "data_listの大きさ: 2384\n",
      "https://suumo.jp/chintai/tokyo/sc_bunkyo/?page=37\n"
     ]
    },
    {
     "name": "stderr",
     "output_type": "stream",
     "text": [
      " 22%|██▏       | 37/171 [01:25<04:39,  2.09s/it]"
     ]
    },
    {
     "name": "stdout",
     "output_type": "stream",
     "text": [
      "data_listの大きさ: 2466\n",
      "https://suumo.jp/chintai/tokyo/sc_bunkyo/?page=38\n"
     ]
    },
    {
     "name": "stderr",
     "output_type": "stream",
     "text": [
      " 22%|██▏       | 38/171 [01:27<04:35,  2.07s/it]"
     ]
    },
    {
     "name": "stdout",
     "output_type": "stream",
     "text": [
      "data_listの大きさ: 2502\n",
      "https://suumo.jp/chintai/tokyo/sc_bunkyo/?page=39\n"
     ]
    },
    {
     "name": "stderr",
     "output_type": "stream",
     "text": [
      " 23%|██▎       | 39/171 [01:29<04:27,  2.03s/it]"
     ]
    },
    {
     "name": "stdout",
     "output_type": "stream",
     "text": [
      "data_listの大きさ: 2534\n",
      "https://suumo.jp/chintai/tokyo/sc_bunkyo/?page=40\n"
     ]
    },
    {
     "name": "stderr",
     "output_type": "stream",
     "text": [
      " 23%|██▎       | 40/171 [01:31<04:25,  2.02s/it]"
     ]
    },
    {
     "name": "stdout",
     "output_type": "stream",
     "text": [
      "data_listの大きさ: 2576\n",
      "https://suumo.jp/chintai/tokyo/sc_bunkyo/?page=41\n"
     ]
    },
    {
     "name": "stderr",
     "output_type": "stream",
     "text": [
      " 24%|██▍       | 41/171 [01:33<04:31,  2.09s/it]"
     ]
    },
    {
     "name": "stdout",
     "output_type": "stream",
     "text": [
      "data_listの大きさ: 2634\n",
      "https://suumo.jp/chintai/tokyo/sc_bunkyo/?page=42\n"
     ]
    },
    {
     "name": "stderr",
     "output_type": "stream",
     "text": [
      " 25%|██▍       | 42/171 [01:35<04:22,  2.04s/it]"
     ]
    },
    {
     "name": "stdout",
     "output_type": "stream",
     "text": [
      "data_listの大きさ: 2671\n",
      "https://suumo.jp/chintai/tokyo/sc_bunkyo/?page=43\n"
     ]
    },
    {
     "name": "stderr",
     "output_type": "stream",
     "text": [
      " 25%|██▌       | 43/171 [01:37<04:21,  2.04s/it]"
     ]
    },
    {
     "name": "stdout",
     "output_type": "stream",
     "text": [
      "data_listの大きさ: 2711\n",
      "https://suumo.jp/chintai/tokyo/sc_bunkyo/?page=44\n"
     ]
    },
    {
     "name": "stderr",
     "output_type": "stream",
     "text": [
      " 26%|██▌       | 44/171 [01:39<04:11,  1.98s/it]"
     ]
    },
    {
     "name": "stdout",
     "output_type": "stream",
     "text": [
      "data_listの大きさ: 2740\n",
      "https://suumo.jp/chintai/tokyo/sc_bunkyo/?page=45\n"
     ]
    },
    {
     "name": "stderr",
     "output_type": "stream",
     "text": [
      " 26%|██▋       | 45/171 [01:41<04:07,  1.96s/it]"
     ]
    },
    {
     "name": "stdout",
     "output_type": "stream",
     "text": [
      "data_listの大きさ: 2769\n",
      "https://suumo.jp/chintai/tokyo/sc_bunkyo/?page=46\n"
     ]
    },
    {
     "name": "stderr",
     "output_type": "stream",
     "text": [
      " 27%|██▋       | 46/171 [01:43<04:07,  1.98s/it]"
     ]
    },
    {
     "name": "stdout",
     "output_type": "stream",
     "text": [
      "data_listの大きさ: 2794\n",
      "https://suumo.jp/chintai/tokyo/sc_bunkyo/?page=47\n"
     ]
    },
    {
     "name": "stderr",
     "output_type": "stream",
     "text": [
      " 27%|██▋       | 47/171 [01:45<04:03,  1.96s/it]"
     ]
    },
    {
     "name": "stdout",
     "output_type": "stream",
     "text": [
      "data_listの大きさ: 2825\n",
      "https://suumo.jp/chintai/tokyo/sc_bunkyo/?page=48\n"
     ]
    },
    {
     "name": "stderr",
     "output_type": "stream",
     "text": [
      " 28%|██▊       | 48/171 [01:46<03:59,  1.95s/it]"
     ]
    },
    {
     "name": "stdout",
     "output_type": "stream",
     "text": [
      "data_listの大きさ: 2854\n",
      "https://suumo.jp/chintai/tokyo/sc_bunkyo/?page=49\n"
     ]
    },
    {
     "name": "stderr",
     "output_type": "stream",
     "text": [
      " 29%|██▊       | 49/171 [01:49<04:08,  2.04s/it]"
     ]
    },
    {
     "name": "stdout",
     "output_type": "stream",
     "text": [
      "data_listの大きさ: 2891\n",
      "https://suumo.jp/chintai/tokyo/sc_bunkyo/?page=50\n"
     ]
    },
    {
     "name": "stderr",
     "output_type": "stream",
     "text": [
      " 29%|██▉       | 50/171 [01:51<04:00,  1.99s/it]"
     ]
    },
    {
     "name": "stdout",
     "output_type": "stream",
     "text": [
      "data_listの大きさ: 2939\n",
      "https://suumo.jp/chintai/tokyo/sc_bunkyo/?page=51\n"
     ]
    },
    {
     "name": "stderr",
     "output_type": "stream",
     "text": [
      " 30%|██▉       | 51/171 [01:53<03:57,  1.98s/it]"
     ]
    },
    {
     "name": "stdout",
     "output_type": "stream",
     "text": [
      "data_listの大きさ: 2972\n",
      "https://suumo.jp/chintai/tokyo/sc_bunkyo/?page=52\n"
     ]
    },
    {
     "name": "stderr",
     "output_type": "stream",
     "text": [
      " 30%|███       | 52/171 [01:55<04:04,  2.05s/it]"
     ]
    },
    {
     "name": "stdout",
     "output_type": "stream",
     "text": [
      "data_listの大きさ: 3008\n",
      "https://suumo.jp/chintai/tokyo/sc_bunkyo/?page=53\n"
     ]
    },
    {
     "name": "stderr",
     "output_type": "stream",
     "text": [
      " 31%|███       | 53/171 [01:57<03:54,  1.99s/it]"
     ]
    },
    {
     "name": "stdout",
     "output_type": "stream",
     "text": [
      "data_listの大きさ: 3050\n",
      "https://suumo.jp/chintai/tokyo/sc_bunkyo/?page=54\n"
     ]
    },
    {
     "name": "stderr",
     "output_type": "stream",
     "text": [
      " 32%|███▏      | 54/171 [01:59<03:54,  2.00s/it]"
     ]
    },
    {
     "name": "stdout",
     "output_type": "stream",
     "text": [
      "data_listの大きさ: 3091\n",
      "https://suumo.jp/chintai/tokyo/sc_bunkyo/?page=55\n"
     ]
    },
    {
     "name": "stderr",
     "output_type": "stream",
     "text": [
      " 32%|███▏      | 55/171 [02:01<03:54,  2.02s/it]"
     ]
    },
    {
     "name": "stdout",
     "output_type": "stream",
     "text": [
      "data_listの大きさ: 3146\n",
      "https://suumo.jp/chintai/tokyo/sc_bunkyo/?page=56\n"
     ]
    },
    {
     "name": "stderr",
     "output_type": "stream",
     "text": [
      " 33%|███▎      | 56/171 [02:03<03:50,  2.00s/it]"
     ]
    },
    {
     "name": "stdout",
     "output_type": "stream",
     "text": [
      "data_listの大きさ: 3190\n",
      "https://suumo.jp/chintai/tokyo/sc_bunkyo/?page=57\n"
     ]
    },
    {
     "name": "stderr",
     "output_type": "stream",
     "text": [
      " 33%|███▎      | 57/171 [02:05<03:48,  2.00s/it]"
     ]
    },
    {
     "name": "stdout",
     "output_type": "stream",
     "text": [
      "data_listの大きさ: 3241\n",
      "https://suumo.jp/chintai/tokyo/sc_bunkyo/?page=58\n"
     ]
    },
    {
     "name": "stderr",
     "output_type": "stream",
     "text": [
      " 34%|███▍      | 58/171 [02:07<03:47,  2.01s/it]"
     ]
    },
    {
     "name": "stdout",
     "output_type": "stream",
     "text": [
      "data_listの大きさ: 3277\n",
      "https://suumo.jp/chintai/tokyo/sc_bunkyo/?page=59\n"
     ]
    },
    {
     "name": "stderr",
     "output_type": "stream",
     "text": [
      " 35%|███▍      | 59/171 [02:09<03:43,  1.99s/it]"
     ]
    },
    {
     "name": "stdout",
     "output_type": "stream",
     "text": [
      "data_listの大きさ: 3311\n",
      "https://suumo.jp/chintai/tokyo/sc_bunkyo/?page=60\n"
     ]
    },
    {
     "name": "stderr",
     "output_type": "stream",
     "text": [
      " 35%|███▌      | 60/171 [02:11<03:41,  2.00s/it]"
     ]
    },
    {
     "name": "stdout",
     "output_type": "stream",
     "text": [
      "data_listの大きさ: 3354\n",
      "https://suumo.jp/chintai/tokyo/sc_bunkyo/?page=61\n"
     ]
    },
    {
     "name": "stderr",
     "output_type": "stream",
     "text": [
      " 36%|███▌      | 61/171 [02:12<03:34,  1.95s/it]"
     ]
    },
    {
     "name": "stdout",
     "output_type": "stream",
     "text": [
      "data_listの大きさ: 3390\n",
      "https://suumo.jp/chintai/tokyo/sc_bunkyo/?page=62\n"
     ]
    },
    {
     "name": "stderr",
     "output_type": "stream",
     "text": [
      " 36%|███▋      | 62/171 [02:14<03:31,  1.94s/it]"
     ]
    },
    {
     "name": "stdout",
     "output_type": "stream",
     "text": [
      "data_listの大きさ: 3425\n",
      "https://suumo.jp/chintai/tokyo/sc_bunkyo/?page=63\n"
     ]
    },
    {
     "name": "stderr",
     "output_type": "stream",
     "text": [
      " 37%|███▋      | 63/171 [02:16<03:31,  1.96s/it]"
     ]
    },
    {
     "name": "stdout",
     "output_type": "stream",
     "text": [
      "data_listの大きさ: 3461\n",
      "https://suumo.jp/chintai/tokyo/sc_bunkyo/?page=64\n"
     ]
    },
    {
     "name": "stderr",
     "output_type": "stream",
     "text": [
      " 37%|███▋      | 64/171 [02:18<03:28,  1.95s/it]"
     ]
    },
    {
     "name": "stdout",
     "output_type": "stream",
     "text": [
      "data_listの大きさ: 3496\n",
      "https://suumo.jp/chintai/tokyo/sc_bunkyo/?page=65\n"
     ]
    },
    {
     "name": "stderr",
     "output_type": "stream",
     "text": [
      " 38%|███▊      | 65/171 [02:20<03:30,  1.98s/it]"
     ]
    },
    {
     "name": "stdout",
     "output_type": "stream",
     "text": [
      "data_listの大きさ: 3532\n",
      "https://suumo.jp/chintai/tokyo/sc_bunkyo/?page=66\n"
     ]
    },
    {
     "name": "stderr",
     "output_type": "stream",
     "text": [
      " 39%|███▊      | 66/171 [02:22<03:26,  1.97s/it]"
     ]
    },
    {
     "name": "stdout",
     "output_type": "stream",
     "text": [
      "data_listの大きさ: 3572\n",
      "https://suumo.jp/chintai/tokyo/sc_bunkyo/?page=67\n"
     ]
    },
    {
     "name": "stderr",
     "output_type": "stream",
     "text": [
      " 39%|███▉      | 67/171 [02:24<03:26,  1.99s/it]"
     ]
    },
    {
     "name": "stdout",
     "output_type": "stream",
     "text": [
      "data_listの大きさ: 3626\n",
      "https://suumo.jp/chintai/tokyo/sc_bunkyo/?page=68\n"
     ]
    },
    {
     "name": "stderr",
     "output_type": "stream",
     "text": [
      " 40%|███▉      | 68/171 [02:26<03:22,  1.96s/it]"
     ]
    },
    {
     "name": "stdout",
     "output_type": "stream",
     "text": [
      "data_listの大きさ: 3659\n",
      "https://suumo.jp/chintai/tokyo/sc_bunkyo/?page=69\n"
     ]
    },
    {
     "name": "stderr",
     "output_type": "stream",
     "text": [
      " 40%|████      | 69/171 [02:28<03:22,  1.98s/it]"
     ]
    },
    {
     "name": "stdout",
     "output_type": "stream",
     "text": [
      "data_listの大きさ: 3700\n",
      "https://suumo.jp/chintai/tokyo/sc_bunkyo/?page=70\n"
     ]
    },
    {
     "name": "stderr",
     "output_type": "stream",
     "text": [
      " 41%|████      | 70/171 [02:30<03:22,  2.00s/it]"
     ]
    },
    {
     "name": "stdout",
     "output_type": "stream",
     "text": [
      "data_listの大きさ: 3743\n",
      "https://suumo.jp/chintai/tokyo/sc_bunkyo/?page=71\n"
     ]
    },
    {
     "name": "stderr",
     "output_type": "stream",
     "text": [
      " 42%|████▏     | 71/171 [02:32<03:15,  1.96s/it]"
     ]
    },
    {
     "name": "stdout",
     "output_type": "stream",
     "text": [
      "data_listの大きさ: 3771\n",
      "https://suumo.jp/chintai/tokyo/sc_bunkyo/?page=72\n"
     ]
    },
    {
     "name": "stderr",
     "output_type": "stream",
     "text": [
      " 42%|████▏     | 72/171 [02:34<03:12,  1.94s/it]"
     ]
    },
    {
     "name": "stdout",
     "output_type": "stream",
     "text": [
      "data_listの大きさ: 3807\n",
      "https://suumo.jp/chintai/tokyo/sc_bunkyo/?page=73\n"
     ]
    },
    {
     "name": "stderr",
     "output_type": "stream",
     "text": [
      " 43%|████▎     | 73/171 [02:36<03:12,  1.96s/it]"
     ]
    },
    {
     "name": "stdout",
     "output_type": "stream",
     "text": [
      "data_listの大きさ: 3837\n",
      "https://suumo.jp/chintai/tokyo/sc_bunkyo/?page=74\n"
     ]
    },
    {
     "name": "stderr",
     "output_type": "stream",
     "text": [
      " 43%|████▎     | 74/171 [02:38<03:08,  1.95s/it]"
     ]
    },
    {
     "name": "stdout",
     "output_type": "stream",
     "text": [
      "data_listの大きさ: 3875\n",
      "https://suumo.jp/chintai/tokyo/sc_bunkyo/?page=75\n"
     ]
    },
    {
     "name": "stderr",
     "output_type": "stream",
     "text": [
      " 44%|████▍     | 75/171 [02:40<03:17,  2.06s/it]"
     ]
    },
    {
     "name": "stdout",
     "output_type": "stream",
     "text": [
      "data_listの大きさ: 3911\n",
      "https://suumo.jp/chintai/tokyo/sc_bunkyo/?page=76\n"
     ]
    },
    {
     "name": "stderr",
     "output_type": "stream",
     "text": [
      " 44%|████▍     | 76/171 [02:42<03:16,  2.07s/it]"
     ]
    },
    {
     "name": "stdout",
     "output_type": "stream",
     "text": [
      "data_listの大きさ: 3943\n",
      "https://suumo.jp/chintai/tokyo/sc_bunkyo/?page=77\n"
     ]
    },
    {
     "name": "stderr",
     "output_type": "stream",
     "text": [
      " 45%|████▌     | 77/171 [02:44<03:09,  2.02s/it]"
     ]
    },
    {
     "name": "stdout",
     "output_type": "stream",
     "text": [
      "data_listの大きさ: 3979\n",
      "https://suumo.jp/chintai/tokyo/sc_bunkyo/?page=78\n"
     ]
    },
    {
     "name": "stderr",
     "output_type": "stream",
     "text": [
      " 46%|████▌     | 78/171 [02:46<03:06,  2.00s/it]"
     ]
    },
    {
     "name": "stdout",
     "output_type": "stream",
     "text": [
      "data_listの大きさ: 4008\n",
      "https://suumo.jp/chintai/tokyo/sc_bunkyo/?page=79\n"
     ]
    },
    {
     "name": "stderr",
     "output_type": "stream",
     "text": [
      " 46%|████▌     | 79/171 [02:48<03:02,  1.99s/it]"
     ]
    },
    {
     "name": "stdout",
     "output_type": "stream",
     "text": [
      "data_listの大きさ: 4048\n",
      "https://suumo.jp/chintai/tokyo/sc_bunkyo/?page=80\n"
     ]
    },
    {
     "name": "stderr",
     "output_type": "stream",
     "text": [
      " 47%|████▋     | 80/171 [02:50<02:57,  1.95s/it]"
     ]
    },
    {
     "name": "stdout",
     "output_type": "stream",
     "text": [
      "data_listの大きさ: 4081\n",
      "https://suumo.jp/chintai/tokyo/sc_bunkyo/?page=81\n"
     ]
    },
    {
     "name": "stderr",
     "output_type": "stream",
     "text": [
      " 47%|████▋     | 81/171 [02:52<02:59,  1.99s/it]"
     ]
    },
    {
     "name": "stdout",
     "output_type": "stream",
     "text": [
      "data_listの大きさ: 4127\n",
      "https://suumo.jp/chintai/tokyo/sc_bunkyo/?page=82\n"
     ]
    },
    {
     "name": "stderr",
     "output_type": "stream",
     "text": [
      " 48%|████▊     | 82/171 [02:54<02:53,  1.95s/it]"
     ]
    },
    {
     "name": "stdout",
     "output_type": "stream",
     "text": [
      "data_listの大きさ: 4166\n",
      "https://suumo.jp/chintai/tokyo/sc_bunkyo/?page=83\n"
     ]
    },
    {
     "name": "stderr",
     "output_type": "stream",
     "text": [
      " 49%|████▊     | 83/171 [02:56<02:51,  1.95s/it]"
     ]
    },
    {
     "name": "stdout",
     "output_type": "stream",
     "text": [
      "data_listの大きさ: 4208\n",
      "https://suumo.jp/chintai/tokyo/sc_bunkyo/?page=84\n"
     ]
    },
    {
     "name": "stderr",
     "output_type": "stream",
     "text": [
      " 49%|████▉     | 84/171 [02:58<02:51,  1.97s/it]"
     ]
    },
    {
     "name": "stdout",
     "output_type": "stream",
     "text": [
      "data_listの大きさ: 4240\n",
      "https://suumo.jp/chintai/tokyo/sc_bunkyo/?page=85\n"
     ]
    },
    {
     "name": "stderr",
     "output_type": "stream",
     "text": [
      " 50%|████▉     | 85/171 [03:00<02:49,  1.97s/it]"
     ]
    },
    {
     "name": "stdout",
     "output_type": "stream",
     "text": [
      "data_listの大きさ: 4273\n",
      "https://suumo.jp/chintai/tokyo/sc_bunkyo/?page=86\n"
     ]
    },
    {
     "name": "stderr",
     "output_type": "stream",
     "text": [
      " 50%|█████     | 86/171 [03:02<02:57,  2.09s/it]"
     ]
    },
    {
     "name": "stdout",
     "output_type": "stream",
     "text": [
      "data_listの大きさ: 4334\n",
      "https://suumo.jp/chintai/tokyo/sc_bunkyo/?page=87\n"
     ]
    },
    {
     "name": "stderr",
     "output_type": "stream",
     "text": [
      " 51%|█████     | 87/171 [03:04<02:48,  2.01s/it]"
     ]
    },
    {
     "name": "stdout",
     "output_type": "stream",
     "text": [
      "data_listの大きさ: 4369\n",
      "https://suumo.jp/chintai/tokyo/sc_bunkyo/?page=88\n"
     ]
    },
    {
     "name": "stderr",
     "output_type": "stream",
     "text": [
      " 51%|█████▏    | 88/171 [03:06<02:45,  1.99s/it]"
     ]
    },
    {
     "name": "stdout",
     "output_type": "stream",
     "text": [
      "data_listの大きさ: 4411\n",
      "https://suumo.jp/chintai/tokyo/sc_bunkyo/?page=89\n"
     ]
    },
    {
     "name": "stderr",
     "output_type": "stream",
     "text": [
      " 52%|█████▏    | 89/171 [03:08<02:44,  2.00s/it]"
     ]
    },
    {
     "name": "stdout",
     "output_type": "stream",
     "text": [
      "data_listの大きさ: 4443\n",
      "https://suumo.jp/chintai/tokyo/sc_bunkyo/?page=90\n"
     ]
    },
    {
     "name": "stderr",
     "output_type": "stream",
     "text": [
      " 53%|█████▎    | 90/171 [03:10<02:41,  1.99s/it]"
     ]
    },
    {
     "name": "stdout",
     "output_type": "stream",
     "text": [
      "data_listの大きさ: 4478\n",
      "https://suumo.jp/chintai/tokyo/sc_bunkyo/?page=91\n"
     ]
    },
    {
     "name": "stderr",
     "output_type": "stream",
     "text": [
      " 53%|█████▎    | 91/171 [03:12<02:39,  1.99s/it]"
     ]
    },
    {
     "name": "stdout",
     "output_type": "stream",
     "text": [
      "data_listの大きさ: 4528\n",
      "https://suumo.jp/chintai/tokyo/sc_bunkyo/?page=92\n"
     ]
    },
    {
     "name": "stderr",
     "output_type": "stream",
     "text": [
      " 54%|█████▍    | 92/171 [03:14<02:39,  2.02s/it]"
     ]
    },
    {
     "name": "stdout",
     "output_type": "stream",
     "text": [
      "data_listの大きさ: 4565\n",
      "https://suumo.jp/chintai/tokyo/sc_bunkyo/?page=93\n"
     ]
    },
    {
     "name": "stderr",
     "output_type": "stream",
     "text": [
      " 54%|█████▍    | 93/171 [03:16<02:33,  1.97s/it]"
     ]
    },
    {
     "name": "stdout",
     "output_type": "stream",
     "text": [
      "data_listの大きさ: 4590\n",
      "https://suumo.jp/chintai/tokyo/sc_bunkyo/?page=94\n"
     ]
    },
    {
     "name": "stderr",
     "output_type": "stream",
     "text": [
      " 55%|█████▍    | 94/171 [03:18<02:32,  1.98s/it]"
     ]
    },
    {
     "name": "stdout",
     "output_type": "stream",
     "text": [
      "data_listの大きさ: 4619\n",
      "https://suumo.jp/chintai/tokyo/sc_bunkyo/?page=95\n"
     ]
    },
    {
     "name": "stderr",
     "output_type": "stream",
     "text": [
      " 56%|█████▌    | 95/171 [03:20<02:31,  1.99s/it]"
     ]
    },
    {
     "name": "stdout",
     "output_type": "stream",
     "text": [
      "data_listの大きさ: 4653\n",
      "https://suumo.jp/chintai/tokyo/sc_bunkyo/?page=96\n"
     ]
    },
    {
     "name": "stderr",
     "output_type": "stream",
     "text": [
      " 56%|█████▌    | 96/171 [03:22<02:27,  1.96s/it]"
     ]
    },
    {
     "name": "stdout",
     "output_type": "stream",
     "text": [
      "data_listの大きさ: 4692\n",
      "https://suumo.jp/chintai/tokyo/sc_bunkyo/?page=97\n"
     ]
    },
    {
     "name": "stderr",
     "output_type": "stream",
     "text": [
      " 57%|█████▋    | 97/171 [03:24<02:25,  1.97s/it]"
     ]
    },
    {
     "name": "stdout",
     "output_type": "stream",
     "text": [
      "data_listの大きさ: 4721\n",
      "https://suumo.jp/chintai/tokyo/sc_bunkyo/?page=98\n"
     ]
    },
    {
     "name": "stderr",
     "output_type": "stream",
     "text": [
      " 57%|█████▋    | 98/171 [03:26<02:20,  1.92s/it]"
     ]
    },
    {
     "name": "stdout",
     "output_type": "stream",
     "text": [
      "data_listの大きさ: 4747\n",
      "https://suumo.jp/chintai/tokyo/sc_bunkyo/?page=99\n"
     ]
    },
    {
     "name": "stderr",
     "output_type": "stream",
     "text": [
      " 58%|█████▊    | 99/171 [03:28<02:17,  1.91s/it]"
     ]
    },
    {
     "name": "stdout",
     "output_type": "stream",
     "text": [
      "data_listの大きさ: 4781\n",
      "https://suumo.jp/chintai/tokyo/sc_bunkyo/?page=100\n"
     ]
    },
    {
     "name": "stderr",
     "output_type": "stream",
     "text": [
      " 58%|█████▊    | 100/171 [03:30<02:17,  1.94s/it]"
     ]
    },
    {
     "name": "stdout",
     "output_type": "stream",
     "text": [
      "data_listの大きさ: 4809\n",
      "https://suumo.jp/chintai/tokyo/sc_bunkyo/?page=101\n"
     ]
    },
    {
     "name": "stderr",
     "output_type": "stream",
     "text": [
      " 59%|█████▉    | 101/171 [03:32<02:16,  1.95s/it]"
     ]
    },
    {
     "name": "stdout",
     "output_type": "stream",
     "text": [
      "data_listの大きさ: 4835\n",
      "https://suumo.jp/chintai/tokyo/sc_bunkyo/?page=102\n"
     ]
    },
    {
     "name": "stderr",
     "output_type": "stream",
     "text": [
      " 60%|█████▉    | 102/171 [03:34<02:14,  1.95s/it]"
     ]
    },
    {
     "name": "stdout",
     "output_type": "stream",
     "text": [
      "data_listの大きさ: 4880\n",
      "https://suumo.jp/chintai/tokyo/sc_bunkyo/?page=103\n"
     ]
    },
    {
     "name": "stderr",
     "output_type": "stream",
     "text": [
      " 60%|██████    | 103/171 [03:36<02:12,  1.94s/it]"
     ]
    },
    {
     "name": "stdout",
     "output_type": "stream",
     "text": [
      "data_listの大きさ: 4905\n",
      "https://suumo.jp/chintai/tokyo/sc_bunkyo/?page=104\n"
     ]
    },
    {
     "name": "stderr",
     "output_type": "stream",
     "text": [
      " 61%|██████    | 104/171 [03:38<02:10,  1.95s/it]"
     ]
    },
    {
     "name": "stdout",
     "output_type": "stream",
     "text": [
      "data_listの大きさ: 4947\n",
      "https://suumo.jp/chintai/tokyo/sc_bunkyo/?page=105\n"
     ]
    },
    {
     "name": "stderr",
     "output_type": "stream",
     "text": [
      " 61%|██████▏   | 105/171 [03:39<02:06,  1.91s/it]"
     ]
    },
    {
     "name": "stdout",
     "output_type": "stream",
     "text": [
      "data_listの大きさ: 4972\n",
      "https://suumo.jp/chintai/tokyo/sc_bunkyo/?page=106\n"
     ]
    },
    {
     "name": "stderr",
     "output_type": "stream",
     "text": [
      " 62%|██████▏   | 106/171 [03:41<02:04,  1.92s/it]"
     ]
    },
    {
     "name": "stdout",
     "output_type": "stream",
     "text": [
      "data_listの大きさ: 4994\n",
      "https://suumo.jp/chintai/tokyo/sc_bunkyo/?page=107\n"
     ]
    },
    {
     "name": "stderr",
     "output_type": "stream",
     "text": [
      " 63%|██████▎   | 107/171 [03:43<02:04,  1.94s/it]"
     ]
    },
    {
     "name": "stdout",
     "output_type": "stream",
     "text": [
      "data_listの大きさ: 5033\n",
      "https://suumo.jp/chintai/tokyo/sc_bunkyo/?page=108\n"
     ]
    },
    {
     "name": "stderr",
     "output_type": "stream",
     "text": [
      " 63%|██████▎   | 108/171 [03:45<02:02,  1.94s/it]"
     ]
    },
    {
     "name": "stdout",
     "output_type": "stream",
     "text": [
      "data_listの大きさ: 5057\n",
      "https://suumo.jp/chintai/tokyo/sc_bunkyo/?page=109\n"
     ]
    },
    {
     "name": "stderr",
     "output_type": "stream",
     "text": [
      " 64%|██████▎   | 109/171 [03:47<01:59,  1.93s/it]"
     ]
    },
    {
     "name": "stdout",
     "output_type": "stream",
     "text": [
      "data_listの大きさ: 5083\n",
      "https://suumo.jp/chintai/tokyo/sc_bunkyo/?page=110\n"
     ]
    },
    {
     "name": "stderr",
     "output_type": "stream",
     "text": [
      " 64%|██████▍   | 110/171 [03:49<01:56,  1.91s/it]"
     ]
    },
    {
     "name": "stdout",
     "output_type": "stream",
     "text": [
      "data_listの大きさ: 5109\n",
      "https://suumo.jp/chintai/tokyo/sc_bunkyo/?page=111\n"
     ]
    },
    {
     "name": "stderr",
     "output_type": "stream",
     "text": [
      " 65%|██████▍   | 111/171 [03:51<01:55,  1.92s/it]"
     ]
    },
    {
     "name": "stdout",
     "output_type": "stream",
     "text": [
      "data_listの大きさ: 5135\n",
      "https://suumo.jp/chintai/tokyo/sc_bunkyo/?page=112\n"
     ]
    },
    {
     "name": "stderr",
     "output_type": "stream",
     "text": [
      " 65%|██████▌   | 112/171 [03:53<01:55,  1.95s/it]"
     ]
    },
    {
     "name": "stdout",
     "output_type": "stream",
     "text": [
      "data_listの大きさ: 5165\n",
      "https://suumo.jp/chintai/tokyo/sc_bunkyo/?page=113\n"
     ]
    },
    {
     "name": "stderr",
     "output_type": "stream",
     "text": [
      " 66%|██████▌   | 113/171 [03:55<01:51,  1.93s/it]"
     ]
    },
    {
     "name": "stdout",
     "output_type": "stream",
     "text": [
      "data_listの大きさ: 5190\n",
      "https://suumo.jp/chintai/tokyo/sc_bunkyo/?page=114\n"
     ]
    },
    {
     "name": "stderr",
     "output_type": "stream",
     "text": [
      " 67%|██████▋   | 114/171 [03:57<01:49,  1.91s/it]"
     ]
    },
    {
     "name": "stdout",
     "output_type": "stream",
     "text": [
      "data_listの大きさ: 5216\n",
      "https://suumo.jp/chintai/tokyo/sc_bunkyo/?page=115\n"
     ]
    },
    {
     "name": "stderr",
     "output_type": "stream",
     "text": [
      " 67%|██████▋   | 115/171 [03:59<01:47,  1.91s/it]"
     ]
    },
    {
     "name": "stdout",
     "output_type": "stream",
     "text": [
      "data_listの大きさ: 5241\n",
      "https://suumo.jp/chintai/tokyo/sc_bunkyo/?page=116\n"
     ]
    },
    {
     "name": "stderr",
     "output_type": "stream",
     "text": [
      " 68%|██████▊   | 116/171 [04:00<01:44,  1.89s/it]"
     ]
    },
    {
     "name": "stdout",
     "output_type": "stream",
     "text": [
      "data_listの大きさ: 5273\n",
      "https://suumo.jp/chintai/tokyo/sc_bunkyo/?page=117\n"
     ]
    },
    {
     "name": "stderr",
     "output_type": "stream",
     "text": [
      " 68%|██████▊   | 117/171 [04:02<01:42,  1.90s/it]"
     ]
    },
    {
     "name": "stdout",
     "output_type": "stream",
     "text": [
      "data_listの大きさ: 5297\n",
      "https://suumo.jp/chintai/tokyo/sc_bunkyo/?page=118\n"
     ]
    },
    {
     "name": "stderr",
     "output_type": "stream",
     "text": [
      " 69%|██████▉   | 118/171 [04:04<01:40,  1.90s/it]"
     ]
    },
    {
     "name": "stdout",
     "output_type": "stream",
     "text": [
      "data_listの大きさ: 5326\n",
      "https://suumo.jp/chintai/tokyo/sc_bunkyo/?page=119\n"
     ]
    },
    {
     "name": "stderr",
     "output_type": "stream",
     "text": [
      " 70%|██████▉   | 119/171 [04:06<01:37,  1.88s/it]"
     ]
    },
    {
     "name": "stdout",
     "output_type": "stream",
     "text": [
      "data_listの大きさ: 5352\n",
      "https://suumo.jp/chintai/tokyo/sc_bunkyo/?page=120\n"
     ]
    },
    {
     "name": "stderr",
     "output_type": "stream",
     "text": [
      " 70%|███████   | 120/171 [04:08<01:34,  1.85s/it]"
     ]
    },
    {
     "name": "stdout",
     "output_type": "stream",
     "text": [
      "data_listの大きさ: 5376\n",
      "https://suumo.jp/chintai/tokyo/sc_bunkyo/?page=121\n"
     ]
    },
    {
     "name": "stderr",
     "output_type": "stream",
     "text": [
      " 71%|███████   | 121/171 [04:10<01:33,  1.87s/it]"
     ]
    },
    {
     "name": "stdout",
     "output_type": "stream",
     "text": [
      "data_listの大きさ: 5401\n",
      "https://suumo.jp/chintai/tokyo/sc_bunkyo/?page=122\n"
     ]
    },
    {
     "name": "stderr",
     "output_type": "stream",
     "text": [
      " 71%|███████▏  | 122/171 [04:12<01:36,  1.97s/it]"
     ]
    },
    {
     "name": "stdout",
     "output_type": "stream",
     "text": [
      "data_listの大きさ: 5423\n",
      "https://suumo.jp/chintai/tokyo/sc_bunkyo/?page=123\n"
     ]
    },
    {
     "name": "stderr",
     "output_type": "stream",
     "text": [
      " 72%|███████▏  | 123/171 [04:14<01:34,  1.96s/it]"
     ]
    },
    {
     "name": "stdout",
     "output_type": "stream",
     "text": [
      "data_listの大きさ: 5447\n",
      "https://suumo.jp/chintai/tokyo/sc_bunkyo/?page=124\n"
     ]
    },
    {
     "name": "stderr",
     "output_type": "stream",
     "text": [
      " 73%|███████▎  | 124/171 [04:16<01:33,  1.99s/it]"
     ]
    },
    {
     "name": "stdout",
     "output_type": "stream",
     "text": [
      "data_listの大きさ: 5478\n",
      "https://suumo.jp/chintai/tokyo/sc_bunkyo/?page=125\n"
     ]
    },
    {
     "name": "stderr",
     "output_type": "stream",
     "text": [
      " 73%|███████▎  | 125/171 [04:18<01:31,  1.98s/it]"
     ]
    },
    {
     "name": "stdout",
     "output_type": "stream",
     "text": [
      "data_listの大きさ: 5506\n",
      "https://suumo.jp/chintai/tokyo/sc_bunkyo/?page=126\n"
     ]
    },
    {
     "name": "stderr",
     "output_type": "stream",
     "text": [
      " 74%|███████▎  | 126/171 [04:20<01:27,  1.93s/it]"
     ]
    },
    {
     "name": "stdout",
     "output_type": "stream",
     "text": [
      "data_listの大きさ: 5527\n",
      "https://suumo.jp/chintai/tokyo/sc_bunkyo/?page=127\n"
     ]
    },
    {
     "name": "stderr",
     "output_type": "stream",
     "text": [
      " 74%|███████▍  | 127/171 [04:22<01:26,  1.96s/it]"
     ]
    },
    {
     "name": "stdout",
     "output_type": "stream",
     "text": [
      "data_listの大きさ: 5551\n",
      "https://suumo.jp/chintai/tokyo/sc_bunkyo/?page=128\n"
     ]
    },
    {
     "name": "stderr",
     "output_type": "stream",
     "text": [
      " 75%|███████▍  | 128/171 [04:24<01:23,  1.94s/it]"
     ]
    },
    {
     "name": "stdout",
     "output_type": "stream",
     "text": [
      "data_listの大きさ: 5578\n",
      "https://suumo.jp/chintai/tokyo/sc_bunkyo/?page=129\n"
     ]
    },
    {
     "name": "stderr",
     "output_type": "stream",
     "text": [
      " 75%|███████▌  | 129/171 [04:26<01:20,  1.91s/it]"
     ]
    },
    {
     "name": "stdout",
     "output_type": "stream",
     "text": [
      "data_listの大きさ: 5602\n",
      "https://suumo.jp/chintai/tokyo/sc_bunkyo/?page=130\n"
     ]
    },
    {
     "name": "stderr",
     "output_type": "stream",
     "text": [
      " 76%|███████▌  | 130/171 [04:27<01:18,  1.91s/it]"
     ]
    },
    {
     "name": "stdout",
     "output_type": "stream",
     "text": [
      "data_listの大きさ: 5630\n",
      "https://suumo.jp/chintai/tokyo/sc_bunkyo/?page=131\n"
     ]
    },
    {
     "name": "stderr",
     "output_type": "stream",
     "text": [
      " 77%|███████▋  | 131/171 [04:30<01:18,  1.96s/it]"
     ]
    },
    {
     "name": "stdout",
     "output_type": "stream",
     "text": [
      "data_listの大きさ: 5655\n",
      "https://suumo.jp/chintai/tokyo/sc_bunkyo/?page=132\n"
     ]
    },
    {
     "name": "stderr",
     "output_type": "stream",
     "text": [
      " 77%|███████▋  | 132/171 [04:31<01:15,  1.93s/it]"
     ]
    },
    {
     "name": "stdout",
     "output_type": "stream",
     "text": [
      "data_listの大きさ: 5681\n",
      "https://suumo.jp/chintai/tokyo/sc_bunkyo/?page=133\n"
     ]
    },
    {
     "name": "stderr",
     "output_type": "stream",
     "text": [
      " 78%|███████▊  | 133/171 [04:33<01:13,  1.92s/it]"
     ]
    },
    {
     "name": "stdout",
     "output_type": "stream",
     "text": [
      "data_listの大きさ: 5708\n",
      "https://suumo.jp/chintai/tokyo/sc_bunkyo/?page=134\n"
     ]
    },
    {
     "name": "stderr",
     "output_type": "stream",
     "text": [
      " 78%|███████▊  | 134/171 [04:35<01:10,  1.91s/it]"
     ]
    },
    {
     "name": "stdout",
     "output_type": "stream",
     "text": [
      "data_listの大きさ: 5734\n",
      "https://suumo.jp/chintai/tokyo/sc_bunkyo/?page=135\n"
     ]
    },
    {
     "name": "stderr",
     "output_type": "stream",
     "text": [
      " 79%|███████▉  | 135/171 [04:37<01:07,  1.89s/it]"
     ]
    },
    {
     "name": "stdout",
     "output_type": "stream",
     "text": [
      "data_listの大きさ: 5754\n",
      "https://suumo.jp/chintai/tokyo/sc_bunkyo/?page=136\n"
     ]
    },
    {
     "name": "stderr",
     "output_type": "stream",
     "text": [
      " 80%|███████▉  | 136/171 [04:39<01:06,  1.89s/it]"
     ]
    },
    {
     "name": "stdout",
     "output_type": "stream",
     "text": [
      "data_listの大きさ: 5778\n",
      "https://suumo.jp/chintai/tokyo/sc_bunkyo/?page=137\n"
     ]
    },
    {
     "name": "stderr",
     "output_type": "stream",
     "text": [
      " 80%|████████  | 137/171 [04:41<01:03,  1.87s/it]"
     ]
    },
    {
     "name": "stdout",
     "output_type": "stream",
     "text": [
      "data_listの大きさ: 5812\n",
      "https://suumo.jp/chintai/tokyo/sc_bunkyo/?page=138\n"
     ]
    },
    {
     "name": "stderr",
     "output_type": "stream",
     "text": [
      " 81%|████████  | 138/171 [04:43<01:02,  1.91s/it]"
     ]
    },
    {
     "name": "stdout",
     "output_type": "stream",
     "text": [
      "data_listの大きさ: 5838\n",
      "https://suumo.jp/chintai/tokyo/sc_bunkyo/?page=139\n"
     ]
    },
    {
     "name": "stderr",
     "output_type": "stream",
     "text": [
      " 81%|████████▏ | 139/171 [04:45<01:00,  1.90s/it]"
     ]
    },
    {
     "name": "stdout",
     "output_type": "stream",
     "text": [
      "data_listの大きさ: 5861\n",
      "https://suumo.jp/chintai/tokyo/sc_bunkyo/?page=140\n"
     ]
    },
    {
     "name": "stderr",
     "output_type": "stream",
     "text": [
      " 82%|████████▏ | 140/171 [04:47<00:59,  1.93s/it]"
     ]
    },
    {
     "name": "stdout",
     "output_type": "stream",
     "text": [
      "data_listの大きさ: 5887\n",
      "https://suumo.jp/chintai/tokyo/sc_bunkyo/?page=141\n"
     ]
    },
    {
     "name": "stderr",
     "output_type": "stream",
     "text": [
      " 82%|████████▏ | 141/171 [04:48<00:57,  1.91s/it]"
     ]
    },
    {
     "name": "stdout",
     "output_type": "stream",
     "text": [
      "data_listの大きさ: 5912\n",
      "https://suumo.jp/chintai/tokyo/sc_bunkyo/?page=142\n"
     ]
    },
    {
     "name": "stderr",
     "output_type": "stream",
     "text": [
      " 83%|████████▎ | 142/171 [04:50<00:55,  1.90s/it]"
     ]
    },
    {
     "name": "stdout",
     "output_type": "stream",
     "text": [
      "data_listの大きさ: 5941\n",
      "https://suumo.jp/chintai/tokyo/sc_bunkyo/?page=143\n"
     ]
    },
    {
     "name": "stderr",
     "output_type": "stream",
     "text": [
      " 84%|████████▎ | 143/171 [04:52<00:53,  1.90s/it]"
     ]
    },
    {
     "name": "stdout",
     "output_type": "stream",
     "text": [
      "data_listの大きさ: 5970\n",
      "https://suumo.jp/chintai/tokyo/sc_bunkyo/?page=144\n"
     ]
    },
    {
     "name": "stderr",
     "output_type": "stream",
     "text": [
      " 84%|████████▍ | 144/171 [04:54<00:50,  1.89s/it]"
     ]
    },
    {
     "name": "stdout",
     "output_type": "stream",
     "text": [
      "data_listの大きさ: 5996\n",
      "https://suumo.jp/chintai/tokyo/sc_bunkyo/?page=145\n"
     ]
    },
    {
     "name": "stderr",
     "output_type": "stream",
     "text": [
      " 85%|████████▍ | 145/171 [04:56<00:49,  1.89s/it]"
     ]
    },
    {
     "name": "stdout",
     "output_type": "stream",
     "text": [
      "data_listの大きさ: 6020\n",
      "https://suumo.jp/chintai/tokyo/sc_bunkyo/?page=146\n"
     ]
    },
    {
     "name": "stderr",
     "output_type": "stream",
     "text": [
      " 85%|████████▌ | 146/171 [04:58<00:47,  1.88s/it]"
     ]
    },
    {
     "name": "stdout",
     "output_type": "stream",
     "text": [
      "data_listの大きさ: 6048\n",
      "https://suumo.jp/chintai/tokyo/sc_bunkyo/?page=147\n"
     ]
    },
    {
     "name": "stderr",
     "output_type": "stream",
     "text": [
      " 86%|████████▌ | 147/171 [05:00<00:44,  1.86s/it]"
     ]
    },
    {
     "name": "stdout",
     "output_type": "stream",
     "text": [
      "data_listの大きさ: 6080\n",
      "https://suumo.jp/chintai/tokyo/sc_bunkyo/?page=148\n"
     ]
    },
    {
     "name": "stderr",
     "output_type": "stream",
     "text": [
      " 87%|████████▋ | 148/171 [05:02<00:43,  1.89s/it]"
     ]
    },
    {
     "name": "stdout",
     "output_type": "stream",
     "text": [
      "data_listの大きさ: 6105\n",
      "https://suumo.jp/chintai/tokyo/sc_bunkyo/?page=149\n"
     ]
    },
    {
     "name": "stderr",
     "output_type": "stream",
     "text": [
      " 87%|████████▋ | 149/171 [05:04<00:41,  1.89s/it]"
     ]
    },
    {
     "name": "stdout",
     "output_type": "stream",
     "text": [
      "data_listの大きさ: 6135\n",
      "https://suumo.jp/chintai/tokyo/sc_bunkyo/?page=150\n"
     ]
    },
    {
     "name": "stderr",
     "output_type": "stream",
     "text": [
      " 88%|████████▊ | 150/171 [05:05<00:39,  1.88s/it]"
     ]
    },
    {
     "name": "stdout",
     "output_type": "stream",
     "text": [
      "data_listの大きさ: 6160\n",
      "https://suumo.jp/chintai/tokyo/sc_bunkyo/?page=151\n"
     ]
    },
    {
     "name": "stderr",
     "output_type": "stream",
     "text": [
      " 88%|████████▊ | 151/171 [05:07<00:37,  1.88s/it]"
     ]
    },
    {
     "name": "stdout",
     "output_type": "stream",
     "text": [
      "data_listの大きさ: 6183\n",
      "https://suumo.jp/chintai/tokyo/sc_bunkyo/?page=152\n"
     ]
    },
    {
     "name": "stderr",
     "output_type": "stream",
     "text": [
      " 89%|████████▉ | 152/171 [05:09<00:35,  1.85s/it]"
     ]
    },
    {
     "name": "stdout",
     "output_type": "stream",
     "text": [
      "data_listの大きさ: 6206\n",
      "https://suumo.jp/chintai/tokyo/sc_bunkyo/?page=153\n"
     ]
    },
    {
     "name": "stderr",
     "output_type": "stream",
     "text": [
      " 89%|████████▉ | 153/171 [05:11<00:33,  1.85s/it]"
     ]
    },
    {
     "name": "stdout",
     "output_type": "stream",
     "text": [
      "data_listの大きさ: 6229\n",
      "https://suumo.jp/chintai/tokyo/sc_bunkyo/?page=154\n"
     ]
    },
    {
     "name": "stderr",
     "output_type": "stream",
     "text": [
      " 90%|█████████ | 154/171 [05:13<00:31,  1.88s/it]"
     ]
    },
    {
     "name": "stdout",
     "output_type": "stream",
     "text": [
      "data_listの大きさ: 6255\n",
      "https://suumo.jp/chintai/tokyo/sc_bunkyo/?page=155\n"
     ]
    },
    {
     "name": "stderr",
     "output_type": "stream",
     "text": [
      " 91%|█████████ | 155/171 [05:15<00:30,  1.93s/it]"
     ]
    },
    {
     "name": "stdout",
     "output_type": "stream",
     "text": [
      "data_listの大きさ: 6281\n",
      "https://suumo.jp/chintai/tokyo/sc_bunkyo/?page=156\n"
     ]
    },
    {
     "name": "stderr",
     "output_type": "stream",
     "text": [
      " 91%|█████████ | 156/171 [05:17<00:28,  1.90s/it]"
     ]
    },
    {
     "name": "stdout",
     "output_type": "stream",
     "text": [
      "data_listの大きさ: 6305\n",
      "https://suumo.jp/chintai/tokyo/sc_bunkyo/?page=157\n"
     ]
    },
    {
     "name": "stderr",
     "output_type": "stream",
     "text": [
      " 92%|█████████▏| 157/171 [05:19<00:26,  1.89s/it]"
     ]
    },
    {
     "name": "stdout",
     "output_type": "stream",
     "text": [
      "data_listの大きさ: 6330\n",
      "https://suumo.jp/chintai/tokyo/sc_bunkyo/?page=158\n"
     ]
    },
    {
     "name": "stderr",
     "output_type": "stream",
     "text": [
      " 92%|█████████▏| 158/171 [05:21<00:24,  1.92s/it]"
     ]
    },
    {
     "name": "stdout",
     "output_type": "stream",
     "text": [
      "data_listの大きさ: 6360\n",
      "https://suumo.jp/chintai/tokyo/sc_bunkyo/?page=159\n"
     ]
    },
    {
     "name": "stderr",
     "output_type": "stream",
     "text": [
      " 93%|█████████▎| 159/171 [05:22<00:22,  1.90s/it]"
     ]
    },
    {
     "name": "stdout",
     "output_type": "stream",
     "text": [
      "data_listの大きさ: 6380\n",
      "https://suumo.jp/chintai/tokyo/sc_bunkyo/?page=160\n"
     ]
    },
    {
     "name": "stderr",
     "output_type": "stream",
     "text": [
      " 94%|█████████▎| 160/171 [05:24<00:20,  1.87s/it]"
     ]
    },
    {
     "name": "stdout",
     "output_type": "stream",
     "text": [
      "data_listの大きさ: 6404\n",
      "https://suumo.jp/chintai/tokyo/sc_bunkyo/?page=161\n"
     ]
    },
    {
     "name": "stderr",
     "output_type": "stream",
     "text": [
      " 94%|█████████▍| 161/171 [05:26<00:18,  1.89s/it]"
     ]
    },
    {
     "name": "stdout",
     "output_type": "stream",
     "text": [
      "data_listの大きさ: 6431\n",
      "https://suumo.jp/chintai/tokyo/sc_bunkyo/?page=162\n"
     ]
    },
    {
     "name": "stderr",
     "output_type": "stream",
     "text": [
      " 95%|█████████▍| 162/171 [05:28<00:17,  1.93s/it]"
     ]
    },
    {
     "name": "stdout",
     "output_type": "stream",
     "text": [
      "data_listの大きさ: 6455\n",
      "https://suumo.jp/chintai/tokyo/sc_bunkyo/?page=163\n"
     ]
    },
    {
     "name": "stderr",
     "output_type": "stream",
     "text": [
      " 95%|█████████▌| 163/171 [05:30<00:15,  1.91s/it]"
     ]
    },
    {
     "name": "stdout",
     "output_type": "stream",
     "text": [
      "data_listの大きさ: 6477\n",
      "https://suumo.jp/chintai/tokyo/sc_bunkyo/?page=164\n"
     ]
    },
    {
     "name": "stderr",
     "output_type": "stream",
     "text": [
      " 96%|█████████▌| 164/171 [05:32<00:13,  1.91s/it]"
     ]
    },
    {
     "name": "stdout",
     "output_type": "stream",
     "text": [
      "data_listの大きさ: 6501\n",
      "https://suumo.jp/chintai/tokyo/sc_bunkyo/?page=165\n"
     ]
    },
    {
     "name": "stderr",
     "output_type": "stream",
     "text": [
      " 96%|█████████▋| 165/171 [05:34<00:11,  1.87s/it]"
     ]
    },
    {
     "name": "stdout",
     "output_type": "stream",
     "text": [
      "data_listの大きさ: 6526\n",
      "https://suumo.jp/chintai/tokyo/sc_bunkyo/?page=166\n"
     ]
    },
    {
     "name": "stderr",
     "output_type": "stream",
     "text": [
      " 97%|█████████▋| 166/171 [05:36<00:09,  1.85s/it]"
     ]
    },
    {
     "name": "stdout",
     "output_type": "stream",
     "text": [
      "data_listの大きさ: 6553\n",
      "https://suumo.jp/chintai/tokyo/sc_bunkyo/?page=167\n"
     ]
    },
    {
     "name": "stderr",
     "output_type": "stream",
     "text": [
      " 98%|█████████▊| 167/171 [05:37<00:07,  1.88s/it]"
     ]
    },
    {
     "name": "stdout",
     "output_type": "stream",
     "text": [
      "data_listの大きさ: 6582\n",
      "https://suumo.jp/chintai/tokyo/sc_bunkyo/?page=168\n"
     ]
    },
    {
     "name": "stderr",
     "output_type": "stream",
     "text": [
      " 98%|█████████▊| 168/171 [05:39<00:05,  1.88s/it]"
     ]
    },
    {
     "name": "stdout",
     "output_type": "stream",
     "text": [
      "data_listの大きさ: 6611\n",
      "https://suumo.jp/chintai/tokyo/sc_bunkyo/?page=169\n"
     ]
    },
    {
     "name": "stderr",
     "output_type": "stream",
     "text": [
      " 99%|█████████▉| 169/171 [05:41<00:03,  1.88s/it]"
     ]
    },
    {
     "name": "stdout",
     "output_type": "stream",
     "text": [
      "data_listの大きさ: 6639\n",
      "https://suumo.jp/chintai/tokyo/sc_bunkyo/?page=170\n"
     ]
    },
    {
     "name": "stderr",
     "output_type": "stream",
     "text": [
      " 99%|█████████▉| 170/171 [05:43<00:01,  1.88s/it]"
     ]
    },
    {
     "name": "stdout",
     "output_type": "stream",
     "text": [
      "data_listの大きさ: 6667\n",
      "https://suumo.jp/chintai/tokyo/sc_bunkyo/?page=171\n"
     ]
    },
    {
     "name": "stderr",
     "output_type": "stream",
     "text": [
      "100%|██████████| 171/171 [05:45<00:00,  2.02s/it]\n"
     ]
    }
   ],
   "source": [
    "# 正常にHTML情報が取得できれば以下のコードを実行\n",
    "if res.status_code == 200:\n",
    "\n",
    "    #文京区のSUUMO掲載物件全ページ情報を取得\n",
    "    for page in tqdm(range(1, last_page +1)): #for文の進捗を確認\n",
    "    #range(start, stop) 関数は、startから始まってstop-1までの数値のシーケンスを生成\n",
    "    #stopの値自体はシーケンスに含まれないため +1で最後のページもスクレイピング\n",
    "        target_url = url.format(page)\n",
    "        #ページ取得できているかの確認\n",
    "        print(\"data_listの大きさ:\",len(data_list))\n",
    "        print(target_url)\n",
    "\n",
    "        #requestを使ってURLにアクセス\n",
    "        res = requests.get(target_url)\n",
    "        #相手サイトの負荷軽減\n",
    "        sleep(1)\n",
    "        #文字化け防止\n",
    "        res.encoding = 'utf-8'\n",
    "        #取得したHTMLをBeautifulSoupで解析\n",
    "        soup = BeautifulSoup(res.text, 'html.parser')\n",
    "\n",
    "        #全ての物件情報取得\n",
    "        contents = soup.find_all('div', class_= 'cassetteitem')\n",
    "\n",
    "        #for文で物件・部屋情報取得\n",
    "        for content in contents:\n",
    "            #物件・部屋情報を解析\n",
    "            detail = content.find('div', class_='cassetteitem-detail')\n",
    "            table = content.find('table', class_='cassetteitem_other')\n",
    "\n",
    "            #物件情報から必要情報を取得\n",
    "            title = detail.find('div', class_='cassetteitem_content-title').text\n",
    "            address = detail.find('li', class_='cassetteitem_detail-col1').text\n",
    "            access = detail.find('li', class_='cassetteitem_detail-col2').text\n",
    "            age = detail.find('li', class_='cassetteitem_detail-col3').text\n",
    "\n",
    "            #部屋情報を取得\n",
    "            tr_tags = table.find_all('tr', class_='js-cassette_link')\n",
    "\n",
    "            #for文で部屋情報取得\n",
    "            for tr_tag in tr_tags:\n",
    "                #部屋情報から必要情報を取得\n",
    "                floor, price, first_fee, capacity = tr_tag.find_all('td')[2:6]\n",
    "                #さらに細かい情報取得\n",
    "                rent, administration = price.find_all('li')\n",
    "                deposit, gratuity = first_fee.find_all('li')\n",
    "                madori, menseki = capacity.find_all('li')\n",
    "                #取得した全ての情報を辞書に格納\n",
    "                data = {\n",
    "                    'title' : title,\n",
    "                    'address' : address,\n",
    "                    'access' : access,\n",
    "                    'age' : age,\n",
    "                    'floor': floor.text,\n",
    "                    'rent' : rent.text,\n",
    "                    'administration' : administration.text,\n",
    "                    'deposit' : deposit.text,\n",
    "                    'gratuity' : gratuity.text,\n",
    "                    'madori' : madori.text,\n",
    "                    'menseki' : menseki.text\n",
    "                }\n",
    "                #取得した辞書を格納\n",
    "                data_list.append(data)"
   ]
  },
  {
   "cell_type": "markdown",
   "metadata": {},
   "source": [
    "utf-8, utf-8-sig の違い\n",
    "https://qiita.com/showmurai/items/60d32006d13512ffeaff\n",
    "\n",
    "エンコードのコーデックに 'utf-8-sig' とすると、BOM有りの場合スキップして読み込んでくれる。\n",
    "BOM無しの場合はそのままUTF-8として読み込むことが可能。\n",
    "\n",
    "UTF-8 には BOM(Byte order mark)が付く場合がある。\n",
    "UTF-8にBOMを付けるのは、Windows'メモ帳'やExcel。LinuxやMacは基本的にBOM無しUTF-8で扱う。"
   ]
  },
  {
   "cell_type": "code",
   "execution_count": 22,
   "metadata": {},
   "outputs": [
    {
     "data": {
      "text/plain": [
       "{'title': 'ＪＲ山手線 田端駅 2階建 築63年',\n",
       " 'address': '東京都文京区本駒込４',\n",
       " 'access': '\\nＪＲ山手線/田端駅 歩13分\\n都営三田線/千石駅 歩17分\\n東京メトロ南北線/本駒込駅 歩18分\\n',\n",
       " 'age': '\\n築63年\\n2階建\\n',\n",
       " 'floor': '\\r\\n\\t\\t\\t\\t\\t\\t\\t\\t\\t\\t\\t2階',\n",
       " 'rent': '3万円',\n",
       " 'administration': '2000円',\n",
       " 'deposit': '-',\n",
       " 'gratuity': '-',\n",
       " 'madori': 'ワンルーム',\n",
       " 'menseki': '8.2m2'}"
      ]
     },
     "execution_count": 22,
     "metadata": {},
     "output_type": "execute_result"
    }
   ],
   "source": [
    "#最後のインデックスを確認\n",
    "data_list[-1]"
   ]
  },
  {
   "cell_type": "code",
   "execution_count": 23,
   "metadata": {},
   "outputs": [
    {
     "name": "stdout",
     "output_type": "stream",
     "text": [
      "csv出力が完了しました\n"
     ]
    },
    {
     "data": {
      "text/html": [
       "<div>\n",
       "<style scoped>\n",
       "    .dataframe tbody tr th:only-of-type {\n",
       "        vertical-align: middle;\n",
       "    }\n",
       "\n",
       "    .dataframe tbody tr th {\n",
       "        vertical-align: top;\n",
       "    }\n",
       "\n",
       "    .dataframe thead th {\n",
       "        text-align: right;\n",
       "    }\n",
       "</style>\n",
       "<table border=\"1\" class=\"dataframe\">\n",
       "  <thead>\n",
       "    <tr style=\"text-align: right;\">\n",
       "      <th></th>\n",
       "      <th>title</th>\n",
       "      <th>address</th>\n",
       "      <th>access</th>\n",
       "      <th>age</th>\n",
       "      <th>floor</th>\n",
       "      <th>rent</th>\n",
       "      <th>administration</th>\n",
       "      <th>deposit</th>\n",
       "      <th>gratuity</th>\n",
       "      <th>madori</th>\n",
       "      <th>menseki</th>\n",
       "    </tr>\n",
       "  </thead>\n",
       "  <tbody>\n",
       "    <tr>\n",
       "      <th>0</th>\n",
       "      <td>アーバンステージ千石II</td>\n",
       "      <td>東京都文京区千石４</td>\n",
       "      <td>都営三田線/千石駅 歩6分 ＪＲ山手線/巣鴨駅 歩9分 東京メトロ丸ノ内線/新大塚駅 歩12分</td>\n",
       "      <td>築6年 4階建</td>\n",
       "      <td>1階</td>\n",
       "      <td>10.8万円</td>\n",
       "      <td>8000円</td>\n",
       "      <td>10.8万円</td>\n",
       "      <td>10.8万円</td>\n",
       "      <td>1LDK</td>\n",
       "      <td>30.06m2</td>\n",
       "    </tr>\n",
       "    <tr>\n",
       "      <th>1</th>\n",
       "      <td>アーバンステージ千石II</td>\n",
       "      <td>東京都文京区千石４</td>\n",
       "      <td>都営三田線/千石駅 歩6分 ＪＲ山手線/巣鴨駅 歩9分 東京メトロ丸ノ内線/新大塚駅 歩12分</td>\n",
       "      <td>築6年 4階建</td>\n",
       "      <td>2階</td>\n",
       "      <td>15.7万円</td>\n",
       "      <td>10000円</td>\n",
       "      <td>15.7万円</td>\n",
       "      <td>15.7万円</td>\n",
       "      <td>1LDK</td>\n",
       "      <td>41.33m2</td>\n",
       "    </tr>\n",
       "    <tr>\n",
       "      <th>2</th>\n",
       "      <td>ＡＴＬＡＳ　Ｃａｒｏ　東大前</td>\n",
       "      <td>東京都文京区弥生２</td>\n",
       "      <td>東京メトロ千代田線/根津駅 歩6分 東京メトロ南北線/東大前駅 歩10分 東京メトロ千代田...</td>\n",
       "      <td>築5年 5階建</td>\n",
       "      <td>3階</td>\n",
       "      <td>9万円</td>\n",
       "      <td>6500円</td>\n",
       "      <td>-</td>\n",
       "      <td>9万円</td>\n",
       "      <td>ワンルーム</td>\n",
       "      <td>20.01m2</td>\n",
       "    </tr>\n",
       "    <tr>\n",
       "      <th>3</th>\n",
       "      <td>ＡＴＬＡＳ　Ｃａｒｏ　東大前</td>\n",
       "      <td>東京都文京区弥生２</td>\n",
       "      <td>東京メトロ千代田線/根津駅 歩6分 東京メトロ南北線/東大前駅 歩10分 東京メトロ千代田...</td>\n",
       "      <td>築5年 5階建</td>\n",
       "      <td>5階</td>\n",
       "      <td>15万円</td>\n",
       "      <td>6500円</td>\n",
       "      <td>-</td>\n",
       "      <td>15万円</td>\n",
       "      <td>1LDK</td>\n",
       "      <td>40.27m2</td>\n",
       "    </tr>\n",
       "    <tr>\n",
       "      <th>4</th>\n",
       "      <td>モンテ駒込</td>\n",
       "      <td>東京都文京区千駄木５</td>\n",
       "      <td>東京メトロ南北線/本駒込駅 歩8分 東京メトロ千代田線/千駄木駅 歩13分 都営三田線/白...</td>\n",
       "      <td>築2年 5階建</td>\n",
       "      <td>4階</td>\n",
       "      <td>10.3万円</td>\n",
       "      <td>10000円</td>\n",
       "      <td>-</td>\n",
       "      <td>-</td>\n",
       "      <td>1LDK</td>\n",
       "      <td>25.06m2</td>\n",
       "    </tr>\n",
       "  </tbody>\n",
       "</table>\n",
       "</div>"
      ],
      "text/plain": [
       "            title     address  \\\n",
       "0    アーバンステージ千石II   東京都文京区千石４   \n",
       "1    アーバンステージ千石II   東京都文京区千石４   \n",
       "2  ＡＴＬＡＳ　Ｃａｒｏ　東大前   東京都文京区弥生２   \n",
       "3  ＡＴＬＡＳ　Ｃａｒｏ　東大前   東京都文京区弥生２   \n",
       "4           モンテ駒込  東京都文京区千駄木５   \n",
       "\n",
       "                                              access        age  \\\n",
       "0   都営三田線/千石駅 歩6分 ＪＲ山手線/巣鴨駅 歩9分 東京メトロ丸ノ内線/新大塚駅 歩12分    築6年 4階建    \n",
       "1   都営三田線/千石駅 歩6分 ＪＲ山手線/巣鴨駅 歩9分 東京メトロ丸ノ内線/新大塚駅 歩12分    築6年 4階建    \n",
       "2   東京メトロ千代田線/根津駅 歩6分 東京メトロ南北線/東大前駅 歩10分 東京メトロ千代田...   築5年 5階建    \n",
       "3   東京メトロ千代田線/根津駅 歩6分 東京メトロ南北線/東大前駅 歩10分 東京メトロ千代田...   築5年 5階建    \n",
       "4   東京メトロ南北線/本駒込駅 歩8分 東京メトロ千代田線/千駄木駅 歩13分 都営三田線/白...   築2年 5階建    \n",
       "\n",
       "             floor    rent administration deposit gratuity madori  menseki  \n",
       "0               1階  10.8万円          8000円  10.8万円   10.8万円   1LDK  30.06m2  \n",
       "1               2階  15.7万円         10000円  15.7万円   15.7万円   1LDK  41.33m2  \n",
       "2               3階     9万円          6500円       -      9万円  ワンルーム  20.01m2  \n",
       "3               5階    15万円          6500円       -     15万円   1LDK  40.27m2  \n",
       "4               4階  10.3万円         10000円       -        -   1LDK  25.06m2  "
      ]
     },
     "execution_count": 23,
     "metadata": {},
     "output_type": "execute_result"
    }
   ],
   "source": [
    "#データフレームを作成\n",
    "df = pd.DataFrame(data_list)\n",
    "df2 = df.applymap(lambda x: re.sub('\\n', ' ', x)) #`\\n`を半角スペースに置換\n",
    "df3 = df2.applymap(lambda x: re.sub('\\r', ' ', x)) #`\\r`を半角スペースに置換\n",
    "df_Final = df3.applymap(lambda x: re.sub('\\t', ' ', x)) #`\\t`を半角スペースに置換\n",
    "df_Final.to_csv('SUUMO_bunkyo.csv', index=False, encoding='utf-8-sig')\n",
    "\n",
    "print(\"csv出力が完了しました\")\n",
    "\n",
    "#df.applymap() : データフレーム全体に対して、カッコ内の関数を適応\n",
    "#lambda x: re.sub('\\n', ' ', x)) : 引数で渡された`x`に対して、`\\n`を半角スペースに置換\n",
    "\n",
    "df_Final.head()"
   ]
  },
  {
   "cell_type": "code",
   "execution_count": 24,
   "metadata": {},
   "outputs": [
    {
     "data": {
      "text/plain": [
       "(6672, 11)"
      ]
     },
     "execution_count": 24,
     "metadata": {},
     "output_type": "execute_result"
    }
   ],
   "source": [
    "#dfの大きさ確認\n",
    "df.shape"
   ]
  },
  {
   "cell_type": "code",
   "execution_count": 25,
   "metadata": {},
   "outputs": [
    {
     "data": {
      "text/plain": [
       "3224"
      ]
     },
     "execution_count": 25,
     "metadata": {},
     "output_type": "execute_result"
    }
   ],
   "source": [
    "#物件名の重複を削除した場合の、dfの大きさを確認 = 物件数\n",
    "len(df.title.unique())"
   ]
  },
  {
   "cell_type": "markdown",
   "metadata": {},
   "source": [
    "スクレイピングエラーが発生する場合考えられる事項。\n",
    "\n",
    "以下、調べた結果\n",
    "- ウェブサイトのアンチスクレイピング機能\n",
    "    - 多くのウェブサイトは、スクレイピングを検出してブロックするための機能を備えている。頻繁なアクセスや一定のパターンのアクセスが検出されると、IPアドレスが一時的にブロックされることがある。\n",
    "\n",
    "- リクエストの制限\n",
    "    - サーバーは一定時間内のリクエスト数に制限を設けている場合がある。これに達すると、それ以上のリクエストは拒否されるか、エラーが返される。\n",
    "\n",
    "- タイムアウトエラー\n",
    "    - ネットワークの問題やサーバーの過負荷などにより、リクエストがタイムアウトすることがある。\n",
    "\n",
    "- ページ構造の変更\n",
    "    - スクレイピングしているウェブサイトがページの構造を変更した場合、コードが正しく機能しなくなることがある。\n",
    "\n",
    "- スクリプトのエラー\n",
    "    - スクリプト自体に問題がある場合。例えば、特定の条件下でエラーが発生する可能性があるコードなど。\n",
    "\n",
    "一般的には、ウェブサイトやサーバーのポリシーによって、一度のセッションで取得できるデータ量やリクエスト数に制限が設けられることがある。"
   ]
  },
  {
   "cell_type": "markdown",
   "metadata": {},
   "source": [
    "### スプレッドシートに出力"
   ]
  },
  {
   "cell_type": "code",
   "execution_count": 26,
   "metadata": {},
   "outputs": [],
   "source": [
    "#google spread sheets 出力\n",
    "#ライブラリのインポート\n",
    "import gspread\n",
    "from oauth2client.service_account import ServiceAccountCredentials\n",
    "\n",
    "#環境変数関連\n",
    "from dotenv import load_dotenv\n",
    "load_dotenv()\n",
    "import os"
   ]
  },
  {
   "cell_type": "code",
   "execution_count": 27,
   "metadata": {},
   "outputs": [],
   "source": [
    "#スコープとjsonファイルを使って認証情報を取得\n",
    "SCOPES = ['https://www.googleapis.com/auth/spreadsheets', 'https://www.googleapis.com/auth/drive']\n",
    "SERVICE_ACCOUNT_FILE = os.getenv('SERVICE_ACCOUNT_FILE')\n",
    "credentials = ServiceAccountCredentials.from_json_keyfile_name(SERVICE_ACCOUNT_FILE, SCOPES)"
   ]
  },
  {
   "cell_type": "code",
   "execution_count": 28,
   "metadata": {},
   "outputs": [],
   "source": [
    "#認証情報をauthorize関数に渡してスプレッドシートの操作権を取得\n",
    "gs = gspread.authorize(credentials)\n",
    "\n",
    "#シート情報を取得して変数に代入\n",
    "SPREADSHEET_KEY = os.getenv('SPREADSHEET_KEY')\n",
    "workbook = gs.open_by_key(SPREADSHEET_KEY)\n",
    "worksheet = workbook.worksheet(\"suumo_DB\")"
   ]
  },
  {
   "cell_type": "code",
   "execution_count": 29,
   "metadata": {},
   "outputs": [
    {
     "name": "stderr",
     "output_type": "stream",
     "text": [
      "/var/folders/3d/lpwdp4ts3r5grm10hjnwtbnm0000gn/T/ipykernel_38019/2641480696.py:5: DeprecationWarning: [Deprecated][in version 6.0.0]: Method signature's arguments 'range_name' and 'values' will change their order. We recommend using named arguments for minimal impact. In addition, the argument 'values' will be mandatory of type: 'List[List]'. (ex) Worksheet.update(values = [[]], range_name=) \n",
      "  worksheet.update(\"B2\", values)\n"
     ]
    },
    {
     "data": {
      "text/plain": [
       "{'spreadsheetId': '14JE9_LppdTkFaE533XHqdfOmKSLTas24s_j8RGP_u8A',\n",
       " 'updatedRange': 'suumo_DB!B2:L6674',\n",
       " 'updatedRows': 6673,\n",
       " 'updatedColumns': 11,\n",
       " 'updatedCells': 73403}"
      ]
     },
     "execution_count": 29,
     "metadata": {},
     "output_type": "execute_result"
    }
   ],
   "source": [
    "#dfから値を習得\n",
    "values = [df.columns.values.tolist()] + df.values.tolist()\n",
    "\n",
    "# ワークシートの指定したセル(B2)から値を追加\n",
    "worksheet.update(\"B2\", values)"
   ]
  }
 ],
 "metadata": {
  "kernelspec": {
   "display_name": "base",
   "language": "python",
   "name": "python3"
  },
  "language_info": {
   "codemirror_mode": {
    "name": "ipython",
    "version": 3
   },
   "file_extension": ".py",
   "mimetype": "text/x-python",
   "name": "python",
   "nbconvert_exporter": "python",
   "pygments_lexer": "ipython3",
   "version": "3.11.4"
  },
  "orig_nbformat": 4
 },
 "nbformat": 4,
 "nbformat_minor": 2
}
