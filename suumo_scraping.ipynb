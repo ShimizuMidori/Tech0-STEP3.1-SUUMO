{
 "cells": [
  {
   "cell_type": "markdown",
   "metadata": {},
   "source": [
    "### 東京都文京区物件スクレイピング"
   ]
  },
  {
   "cell_type": "code",
   "execution_count": 4,
   "metadata": {},
   "outputs": [],
   "source": [
    "#ライブラリのインポート\n",
    "from bs4 import BeautifulSoup\n",
    "import re #不要文字削除\n",
    "import requests\n",
    "from time import sleep\n",
    "from tqdm import tqdm   #for文の進捗確認\n",
    "import pandas as pd"
   ]
  },
  {
   "cell_type": "code",
   "execution_count": 5,
   "metadata": {},
   "outputs": [],
   "source": [
    "# 最後のページの数値を取得\n",
    "url = 'https://suumo.jp/chintai/tokyo/sc_bunkyo/?page={}'\n",
    "res = requests.get(url.format(1))\n",
    "#1ページ目のページネーションに全ページの番号が表示されるので、1ページ目のページネーション部分をスクレイピングし、その中の最後の要素（最後のページ番号）を取得\n",
    "res.encoding = 'utf-8'\n",
    "soup = BeautifulSoup(res.text, 'html.parser')\n",
    "last_page = int(soup.find('ol', class_='pagination-parts').find_all('li')[-1].text)\n",
    "#[-1]でページネーションのリストから最後の要素を取得\n",
    "#textでページ番号を取得\n",
    "#intで整数型に変換"
   ]
  },
  {
   "cell_type": "code",
   "execution_count": 6,
   "metadata": {},
   "outputs": [],
   "source": [
    "#空のリストを作成\n",
    "data_list = []"
   ]
  },
  {
   "cell_type": "code",
   "execution_count": 7,
   "metadata": {},
   "outputs": [
    {
     "name": "stderr",
     "output_type": "stream",
     "text": [
      "  0%|          | 0/170 [00:00<?, ?it/s]"
     ]
    },
    {
     "name": "stdout",
     "output_type": "stream",
     "text": [
      "data_listの大きさ: 0\n",
      "https://suumo.jp/chintai/tokyo/sc_bunkyo/?page=1\n"
     ]
    },
    {
     "name": "stderr",
     "output_type": "stream",
     "text": [
      "  1%|          | 1/170 [00:02<07:50,  2.78s/it]"
     ]
    },
    {
     "name": "stdout",
     "output_type": "stream",
     "text": [
      "data_listの大きさ: 88\n",
      "https://suumo.jp/chintai/tokyo/sc_bunkyo/?page=2\n"
     ]
    },
    {
     "name": "stderr",
     "output_type": "stream",
     "text": [
      "  1%|          | 2/170 [00:05<07:07,  2.54s/it]"
     ]
    },
    {
     "name": "stdout",
     "output_type": "stream",
     "text": [
      "data_listの大きさ: 162\n",
      "https://suumo.jp/chintai/tokyo/sc_bunkyo/?page=3\n"
     ]
    },
    {
     "name": "stderr",
     "output_type": "stream",
     "text": [
      "  2%|▏         | 3/170 [00:07<07:14,  2.60s/it]"
     ]
    },
    {
     "name": "stdout",
     "output_type": "stream",
     "text": [
      "data_listの大きさ: 222\n",
      "https://suumo.jp/chintai/tokyo/sc_bunkyo/?page=4\n"
     ]
    },
    {
     "name": "stderr",
     "output_type": "stream",
     "text": [
      "  2%|▏         | 4/170 [00:10<07:37,  2.76s/it]"
     ]
    },
    {
     "name": "stdout",
     "output_type": "stream",
     "text": [
      "data_listの大きさ: 288\n",
      "https://suumo.jp/chintai/tokyo/sc_bunkyo/?page=5\n"
     ]
    },
    {
     "name": "stderr",
     "output_type": "stream",
     "text": [
      "  3%|▎         | 5/170 [00:13<07:18,  2.66s/it]"
     ]
    },
    {
     "name": "stdout",
     "output_type": "stream",
     "text": [
      "data_listの大きさ: 342\n",
      "https://suumo.jp/chintai/tokyo/sc_bunkyo/?page=6\n"
     ]
    },
    {
     "name": "stderr",
     "output_type": "stream",
     "text": [
      "  4%|▎         | 6/170 [00:15<06:32,  2.39s/it]"
     ]
    },
    {
     "name": "stdout",
     "output_type": "stream",
     "text": [
      "data_listの大きさ: 399\n",
      "https://suumo.jp/chintai/tokyo/sc_bunkyo/?page=7\n"
     ]
    },
    {
     "name": "stderr",
     "output_type": "stream",
     "text": [
      "  4%|▍         | 7/170 [00:17<06:48,  2.51s/it]"
     ]
    },
    {
     "name": "stdout",
     "output_type": "stream",
     "text": [
      "data_listの大きさ: 446\n",
      "https://suumo.jp/chintai/tokyo/sc_bunkyo/?page=8\n"
     ]
    },
    {
     "name": "stderr",
     "output_type": "stream",
     "text": [
      "  5%|▍         | 8/170 [00:20<06:27,  2.39s/it]"
     ]
    },
    {
     "name": "stdout",
     "output_type": "stream",
     "text": [
      "data_listの大きさ: 534\n",
      "https://suumo.jp/chintai/tokyo/sc_bunkyo/?page=9\n"
     ]
    },
    {
     "name": "stderr",
     "output_type": "stream",
     "text": [
      "  5%|▌         | 9/170 [00:22<06:26,  2.40s/it]"
     ]
    },
    {
     "name": "stdout",
     "output_type": "stream",
     "text": [
      "data_listの大きさ: 655\n",
      "https://suumo.jp/chintai/tokyo/sc_bunkyo/?page=10\n"
     ]
    },
    {
     "name": "stderr",
     "output_type": "stream",
     "text": [
      "  6%|▌         | 10/170 [00:24<06:09,  2.31s/it]"
     ]
    },
    {
     "name": "stdout",
     "output_type": "stream",
     "text": [
      "data_listの大きさ: 713\n",
      "https://suumo.jp/chintai/tokyo/sc_bunkyo/?page=11\n"
     ]
    },
    {
     "name": "stderr",
     "output_type": "stream",
     "text": [
      "  6%|▋         | 11/170 [00:26<05:58,  2.25s/it]"
     ]
    },
    {
     "name": "stdout",
     "output_type": "stream",
     "text": [
      "data_listの大きさ: 800\n",
      "https://suumo.jp/chintai/tokyo/sc_bunkyo/?page=12\n"
     ]
    },
    {
     "name": "stderr",
     "output_type": "stream",
     "text": [
      "  7%|▋         | 12/170 [00:28<05:44,  2.18s/it]"
     ]
    },
    {
     "name": "stdout",
     "output_type": "stream",
     "text": [
      "data_listの大きさ: 849\n",
      "https://suumo.jp/chintai/tokyo/sc_bunkyo/?page=13\n"
     ]
    },
    {
     "name": "stderr",
     "output_type": "stream",
     "text": [
      "  8%|▊         | 13/170 [00:31<06:06,  2.33s/it]"
     ]
    },
    {
     "name": "stdout",
     "output_type": "stream",
     "text": [
      "data_listの大きさ: 953\n",
      "https://suumo.jp/chintai/tokyo/sc_bunkyo/?page=14\n"
     ]
    },
    {
     "name": "stderr",
     "output_type": "stream",
     "text": [
      "  8%|▊         | 14/170 [00:34<06:16,  2.41s/it]"
     ]
    },
    {
     "name": "stdout",
     "output_type": "stream",
     "text": [
      "data_listの大きさ: 1100\n",
      "https://suumo.jp/chintai/tokyo/sc_bunkyo/?page=15\n"
     ]
    },
    {
     "name": "stderr",
     "output_type": "stream",
     "text": [
      "  9%|▉         | 15/170 [00:36<06:10,  2.39s/it]"
     ]
    },
    {
     "name": "stdout",
     "output_type": "stream",
     "text": [
      "data_listの大きさ: 1176\n",
      "https://suumo.jp/chintai/tokyo/sc_bunkyo/?page=16\n"
     ]
    },
    {
     "name": "stderr",
     "output_type": "stream",
     "text": [
      "  9%|▉         | 16/170 [00:38<05:51,  2.28s/it]"
     ]
    },
    {
     "name": "stdout",
     "output_type": "stream",
     "text": [
      "data_listの大きさ: 1216\n",
      "https://suumo.jp/chintai/tokyo/sc_bunkyo/?page=17\n"
     ]
    },
    {
     "name": "stderr",
     "output_type": "stream",
     "text": [
      " 10%|█         | 17/170 [00:40<05:37,  2.20s/it]"
     ]
    },
    {
     "name": "stdout",
     "output_type": "stream",
     "text": [
      "data_listの大きさ: 1256\n",
      "https://suumo.jp/chintai/tokyo/sc_bunkyo/?page=18\n"
     ]
    },
    {
     "name": "stderr",
     "output_type": "stream",
     "text": [
      " 11%|█         | 18/170 [00:42<05:36,  2.22s/it]"
     ]
    },
    {
     "name": "stdout",
     "output_type": "stream",
     "text": [
      "data_listの大きさ: 1334\n",
      "https://suumo.jp/chintai/tokyo/sc_bunkyo/?page=19\n"
     ]
    },
    {
     "name": "stderr",
     "output_type": "stream",
     "text": [
      " 11%|█         | 19/170 [00:44<05:27,  2.17s/it]"
     ]
    },
    {
     "name": "stdout",
     "output_type": "stream",
     "text": [
      "data_listの大きさ: 1391\n",
      "https://suumo.jp/chintai/tokyo/sc_bunkyo/?page=20\n"
     ]
    },
    {
     "name": "stderr",
     "output_type": "stream",
     "text": [
      " 12%|█▏        | 20/170 [00:46<05:22,  2.15s/it]"
     ]
    },
    {
     "name": "stdout",
     "output_type": "stream",
     "text": [
      "data_listの大きさ: 1450\n",
      "https://suumo.jp/chintai/tokyo/sc_bunkyo/?page=21\n"
     ]
    },
    {
     "name": "stderr",
     "output_type": "stream",
     "text": [
      " 12%|█▏        | 21/170 [00:48<05:18,  2.14s/it]"
     ]
    },
    {
     "name": "stdout",
     "output_type": "stream",
     "text": [
      "data_listの大きさ: 1508\n",
      "https://suumo.jp/chintai/tokyo/sc_bunkyo/?page=22\n"
     ]
    },
    {
     "name": "stderr",
     "output_type": "stream",
     "text": [
      " 13%|█▎        | 22/170 [00:51<05:15,  2.13s/it]"
     ]
    },
    {
     "name": "stdout",
     "output_type": "stream",
     "text": [
      "data_listの大きさ: 1549\n",
      "https://suumo.jp/chintai/tokyo/sc_bunkyo/?page=23\n"
     ]
    },
    {
     "name": "stderr",
     "output_type": "stream",
     "text": [
      " 14%|█▎        | 23/170 [00:53<05:20,  2.18s/it]"
     ]
    },
    {
     "name": "stdout",
     "output_type": "stream",
     "text": [
      "data_listの大きさ: 1595\n",
      "https://suumo.jp/chintai/tokyo/sc_bunkyo/?page=24\n"
     ]
    },
    {
     "name": "stderr",
     "output_type": "stream",
     "text": [
      " 14%|█▍        | 24/170 [00:55<05:36,  2.31s/it]"
     ]
    },
    {
     "name": "stdout",
     "output_type": "stream",
     "text": [
      "data_listの大きさ: 1653\n",
      "https://suumo.jp/chintai/tokyo/sc_bunkyo/?page=25\n"
     ]
    },
    {
     "name": "stderr",
     "output_type": "stream",
     "text": [
      " 15%|█▍        | 25/170 [00:58<05:45,  2.38s/it]"
     ]
    },
    {
     "name": "stdout",
     "output_type": "stream",
     "text": [
      "data_listの大きさ: 1698\n",
      "https://suumo.jp/chintai/tokyo/sc_bunkyo/?page=26\n"
     ]
    },
    {
     "name": "stderr",
     "output_type": "stream",
     "text": [
      " 15%|█▌        | 26/170 [01:00<05:24,  2.25s/it]"
     ]
    },
    {
     "name": "stdout",
     "output_type": "stream",
     "text": [
      "data_listの大きさ: 1735\n",
      "https://suumo.jp/chintai/tokyo/sc_bunkyo/?page=27\n"
     ]
    },
    {
     "name": "stderr",
     "output_type": "stream",
     "text": [
      " 16%|█▌        | 27/170 [01:02<05:16,  2.21s/it]"
     ]
    },
    {
     "name": "stdout",
     "output_type": "stream",
     "text": [
      "data_listの大きさ: 1783\n",
      "https://suumo.jp/chintai/tokyo/sc_bunkyo/?page=28\n"
     ]
    },
    {
     "name": "stderr",
     "output_type": "stream",
     "text": [
      " 16%|█▋        | 28/170 [01:05<05:33,  2.35s/it]"
     ]
    },
    {
     "name": "stdout",
     "output_type": "stream",
     "text": [
      "data_listの大きさ: 1852\n",
      "https://suumo.jp/chintai/tokyo/sc_bunkyo/?page=29\n"
     ]
    },
    {
     "name": "stderr",
     "output_type": "stream",
     "text": [
      " 17%|█▋        | 29/170 [01:07<05:26,  2.31s/it]"
     ]
    },
    {
     "name": "stdout",
     "output_type": "stream",
     "text": [
      "data_listの大きさ: 1894\n",
      "https://suumo.jp/chintai/tokyo/sc_bunkyo/?page=30\n"
     ]
    },
    {
     "name": "stderr",
     "output_type": "stream",
     "text": [
      " 18%|█▊        | 30/170 [01:09<05:17,  2.27s/it]"
     ]
    },
    {
     "name": "stdout",
     "output_type": "stream",
     "text": [
      "data_listの大きさ: 1943\n",
      "https://suumo.jp/chintai/tokyo/sc_bunkyo/?page=31\n"
     ]
    },
    {
     "name": "stderr",
     "output_type": "stream",
     "text": [
      " 18%|█▊        | 31/170 [01:11<05:05,  2.20s/it]"
     ]
    },
    {
     "name": "stdout",
     "output_type": "stream",
     "text": [
      "data_listの大きさ: 1981\n",
      "https://suumo.jp/chintai/tokyo/sc_bunkyo/?page=32\n"
     ]
    },
    {
     "name": "stderr",
     "output_type": "stream",
     "text": [
      " 19%|█▉        | 32/170 [01:13<05:00,  2.18s/it]"
     ]
    },
    {
     "name": "stdout",
     "output_type": "stream",
     "text": [
      "data_listの大きさ: 2026\n",
      "https://suumo.jp/chintai/tokyo/sc_bunkyo/?page=33\n"
     ]
    },
    {
     "name": "stderr",
     "output_type": "stream",
     "text": [
      " 19%|█▉        | 33/170 [01:16<05:07,  2.24s/it]"
     ]
    },
    {
     "name": "stdout",
     "output_type": "stream",
     "text": [
      "data_listの大きさ: 2080\n",
      "https://suumo.jp/chintai/tokyo/sc_bunkyo/?page=34\n"
     ]
    },
    {
     "name": "stderr",
     "output_type": "stream",
     "text": [
      " 20%|██        | 34/170 [01:18<04:58,  2.19s/it]"
     ]
    },
    {
     "name": "stdout",
     "output_type": "stream",
     "text": [
      "data_listの大きさ: 2140\n",
      "https://suumo.jp/chintai/tokyo/sc_bunkyo/?page=35\n"
     ]
    },
    {
     "name": "stderr",
     "output_type": "stream",
     "text": [
      " 21%|██        | 35/170 [01:20<04:48,  2.14s/it]"
     ]
    },
    {
     "name": "stdout",
     "output_type": "stream",
     "text": [
      "data_listの大きさ: 2190\n",
      "https://suumo.jp/chintai/tokyo/sc_bunkyo/?page=36\n"
     ]
    },
    {
     "name": "stderr",
     "output_type": "stream",
     "text": [
      " 21%|██        | 36/170 [01:22<04:41,  2.10s/it]"
     ]
    },
    {
     "name": "stdout",
     "output_type": "stream",
     "text": [
      "data_listの大きさ: 2219\n",
      "https://suumo.jp/chintai/tokyo/sc_bunkyo/?page=37\n"
     ]
    },
    {
     "name": "stderr",
     "output_type": "stream",
     "text": [
      " 22%|██▏       | 37/170 [01:24<04:36,  2.08s/it]"
     ]
    },
    {
     "name": "stdout",
     "output_type": "stream",
     "text": [
      "data_listの大きさ: 2267\n",
      "https://suumo.jp/chintai/tokyo/sc_bunkyo/?page=38\n"
     ]
    },
    {
     "name": "stderr",
     "output_type": "stream",
     "text": [
      " 22%|██▏       | 38/170 [01:26<04:46,  2.17s/it]"
     ]
    },
    {
     "name": "stdout",
     "output_type": "stream",
     "text": [
      "data_listの大きさ: 2328\n",
      "https://suumo.jp/chintai/tokyo/sc_bunkyo/?page=39\n"
     ]
    },
    {
     "name": "stderr",
     "output_type": "stream",
     "text": [
      " 23%|██▎       | 39/170 [01:28<04:40,  2.14s/it]"
     ]
    },
    {
     "name": "stdout",
     "output_type": "stream",
     "text": [
      "data_listの大きさ: 2386\n",
      "https://suumo.jp/chintai/tokyo/sc_bunkyo/?page=40\n"
     ]
    },
    {
     "name": "stderr",
     "output_type": "stream",
     "text": [
      " 24%|██▎       | 40/170 [01:31<04:45,  2.19s/it]"
     ]
    },
    {
     "name": "stdout",
     "output_type": "stream",
     "text": [
      "data_listの大きさ: 2486\n",
      "https://suumo.jp/chintai/tokyo/sc_bunkyo/?page=41\n"
     ]
    },
    {
     "name": "stderr",
     "output_type": "stream",
     "text": [
      " 24%|██▍       | 41/170 [01:33<04:44,  2.21s/it]"
     ]
    },
    {
     "name": "stdout",
     "output_type": "stream",
     "text": [
      "data_listの大きさ: 2560\n",
      "https://suumo.jp/chintai/tokyo/sc_bunkyo/?page=42\n"
     ]
    },
    {
     "name": "stderr",
     "output_type": "stream",
     "text": [
      " 25%|██▍       | 42/170 [01:35<04:34,  2.15s/it]"
     ]
    },
    {
     "name": "stdout",
     "output_type": "stream",
     "text": [
      "data_listの大きさ: 2599\n",
      "https://suumo.jp/chintai/tokyo/sc_bunkyo/?page=43\n"
     ]
    },
    {
     "name": "stderr",
     "output_type": "stream",
     "text": [
      " 25%|██▌       | 43/170 [01:37<04:30,  2.13s/it]"
     ]
    },
    {
     "name": "stdout",
     "output_type": "stream",
     "text": [
      "data_listの大きさ: 2642\n",
      "https://suumo.jp/chintai/tokyo/sc_bunkyo/?page=44\n"
     ]
    },
    {
     "name": "stderr",
     "output_type": "stream",
     "text": [
      " 26%|██▌       | 44/170 [01:39<04:38,  2.21s/it]"
     ]
    },
    {
     "name": "stdout",
     "output_type": "stream",
     "text": [
      "data_listの大きさ: 2679\n",
      "https://suumo.jp/chintai/tokyo/sc_bunkyo/?page=45\n"
     ]
    },
    {
     "name": "stderr",
     "output_type": "stream",
     "text": [
      " 26%|██▋       | 45/170 [01:41<04:30,  2.17s/it]"
     ]
    },
    {
     "name": "stdout",
     "output_type": "stream",
     "text": [
      "data_listの大きさ: 2751\n",
      "https://suumo.jp/chintai/tokyo/sc_bunkyo/?page=46\n"
     ]
    },
    {
     "name": "stderr",
     "output_type": "stream",
     "text": [
      " 27%|██▋       | 46/170 [01:44<04:27,  2.16s/it]"
     ]
    },
    {
     "name": "stdout",
     "output_type": "stream",
     "text": [
      "data_listの大きさ: 2787\n",
      "https://suumo.jp/chintai/tokyo/sc_bunkyo/?page=47\n"
     ]
    },
    {
     "name": "stderr",
     "output_type": "stream",
     "text": [
      " 28%|██▊       | 47/170 [01:46<04:21,  2.13s/it]"
     ]
    },
    {
     "name": "stdout",
     "output_type": "stream",
     "text": [
      "data_listの大きさ: 2838\n",
      "https://suumo.jp/chintai/tokyo/sc_bunkyo/?page=48\n"
     ]
    },
    {
     "name": "stderr",
     "output_type": "stream",
     "text": [
      " 28%|██▊       | 48/170 [01:48<04:25,  2.17s/it]"
     ]
    },
    {
     "name": "stdout",
     "output_type": "stream",
     "text": [
      "data_listの大きさ: 2876\n",
      "https://suumo.jp/chintai/tokyo/sc_bunkyo/?page=49\n"
     ]
    },
    {
     "name": "stderr",
     "output_type": "stream",
     "text": [
      " 29%|██▉       | 49/170 [01:50<04:21,  2.16s/it]"
     ]
    },
    {
     "name": "stdout",
     "output_type": "stream",
     "text": [
      "data_listの大きさ: 2914\n",
      "https://suumo.jp/chintai/tokyo/sc_bunkyo/?page=50\n"
     ]
    },
    {
     "name": "stderr",
     "output_type": "stream",
     "text": [
      " 29%|██▉       | 50/170 [01:52<04:20,  2.17s/it]"
     ]
    },
    {
     "name": "stdout",
     "output_type": "stream",
     "text": [
      "data_listの大きさ: 2947\n",
      "https://suumo.jp/chintai/tokyo/sc_bunkyo/?page=51\n"
     ]
    },
    {
     "name": "stderr",
     "output_type": "stream",
     "text": [
      " 30%|███       | 51/170 [01:54<04:15,  2.15s/it]"
     ]
    },
    {
     "name": "stdout",
     "output_type": "stream",
     "text": [
      "data_listの大きさ: 2977\n",
      "https://suumo.jp/chintai/tokyo/sc_bunkyo/?page=52\n"
     ]
    },
    {
     "name": "stderr",
     "output_type": "stream",
     "text": [
      " 31%|███       | 52/170 [01:57<04:24,  2.24s/it]"
     ]
    },
    {
     "name": "stdout",
     "output_type": "stream",
     "text": [
      "data_listの大きさ: 3011\n",
      "https://suumo.jp/chintai/tokyo/sc_bunkyo/?page=53\n"
     ]
    },
    {
     "name": "stderr",
     "output_type": "stream",
     "text": [
      " 31%|███       | 53/170 [01:59<04:18,  2.21s/it]"
     ]
    },
    {
     "name": "stdout",
     "output_type": "stream",
     "text": [
      "data_listの大きさ: 3042\n",
      "https://suumo.jp/chintai/tokyo/sc_bunkyo/?page=54\n"
     ]
    },
    {
     "name": "stderr",
     "output_type": "stream",
     "text": [
      " 32%|███▏      | 54/170 [02:01<04:06,  2.13s/it]"
     ]
    },
    {
     "name": "stdout",
     "output_type": "stream",
     "text": [
      "data_listの大きさ: 3076\n",
      "https://suumo.jp/chintai/tokyo/sc_bunkyo/?page=55\n"
     ]
    },
    {
     "name": "stderr",
     "output_type": "stream",
     "text": [
      " 32%|███▏      | 55/170 [02:03<04:01,  2.10s/it]"
     ]
    },
    {
     "name": "stdout",
     "output_type": "stream",
     "text": [
      "data_listの大きさ: 3119\n",
      "https://suumo.jp/chintai/tokyo/sc_bunkyo/?page=56\n"
     ]
    },
    {
     "name": "stderr",
     "output_type": "stream",
     "text": [
      " 33%|███▎      | 56/170 [02:05<04:05,  2.15s/it]"
     ]
    },
    {
     "name": "stdout",
     "output_type": "stream",
     "text": [
      "data_listの大きさ: 3162\n",
      "https://suumo.jp/chintai/tokyo/sc_bunkyo/?page=57\n"
     ]
    },
    {
     "name": "stderr",
     "output_type": "stream",
     "text": [
      " 34%|███▎      | 57/170 [02:07<04:00,  2.13s/it]"
     ]
    },
    {
     "name": "stdout",
     "output_type": "stream",
     "text": [
      "data_listの大きさ: 3206\n",
      "https://suumo.jp/chintai/tokyo/sc_bunkyo/?page=58\n"
     ]
    },
    {
     "name": "stderr",
     "output_type": "stream",
     "text": [
      " 34%|███▍      | 58/170 [02:09<03:54,  2.09s/it]"
     ]
    },
    {
     "name": "stdout",
     "output_type": "stream",
     "text": [
      "data_listの大きさ: 3256\n",
      "https://suumo.jp/chintai/tokyo/sc_bunkyo/?page=59\n"
     ]
    },
    {
     "name": "stderr",
     "output_type": "stream",
     "text": [
      " 35%|███▍      | 59/170 [02:11<03:47,  2.05s/it]"
     ]
    },
    {
     "name": "stdout",
     "output_type": "stream",
     "text": [
      "data_listの大きさ: 3291\n",
      "https://suumo.jp/chintai/tokyo/sc_bunkyo/?page=60\n"
     ]
    },
    {
     "name": "stderr",
     "output_type": "stream",
     "text": [
      " 35%|███▌      | 60/170 [02:13<03:47,  2.07s/it]"
     ]
    },
    {
     "name": "stdout",
     "output_type": "stream",
     "text": [
      "data_listの大きさ: 3340\n",
      "https://suumo.jp/chintai/tokyo/sc_bunkyo/?page=61\n"
     ]
    },
    {
     "name": "stderr",
     "output_type": "stream",
     "text": [
      " 36%|███▌      | 61/170 [02:15<03:45,  2.07s/it]"
     ]
    },
    {
     "name": "stdout",
     "output_type": "stream",
     "text": [
      "data_listの大きさ: 3382\n",
      "https://suumo.jp/chintai/tokyo/sc_bunkyo/?page=62\n"
     ]
    },
    {
     "name": "stderr",
     "output_type": "stream",
     "text": [
      " 36%|███▋      | 62/170 [02:18<03:48,  2.11s/it]"
     ]
    },
    {
     "name": "stdout",
     "output_type": "stream",
     "text": [
      "data_listの大きさ: 3430\n",
      "https://suumo.jp/chintai/tokyo/sc_bunkyo/?page=63\n"
     ]
    },
    {
     "name": "stderr",
     "output_type": "stream",
     "text": [
      " 37%|███▋      | 63/170 [02:19<03:40,  2.06s/it]"
     ]
    },
    {
     "name": "stdout",
     "output_type": "stream",
     "text": [
      "data_listの大きさ: 3468\n",
      "https://suumo.jp/chintai/tokyo/sc_bunkyo/?page=64\n"
     ]
    },
    {
     "name": "stderr",
     "output_type": "stream",
     "text": [
      " 38%|███▊      | 64/170 [02:21<03:32,  2.01s/it]"
     ]
    },
    {
     "name": "stdout",
     "output_type": "stream",
     "text": [
      "data_listの大きさ: 3502\n",
      "https://suumo.jp/chintai/tokyo/sc_bunkyo/?page=65\n"
     ]
    },
    {
     "name": "stderr",
     "output_type": "stream",
     "text": [
      " 38%|███▊      | 65/170 [02:23<03:30,  2.01s/it]"
     ]
    },
    {
     "name": "stdout",
     "output_type": "stream",
     "text": [
      "data_listの大きさ: 3536\n",
      "https://suumo.jp/chintai/tokyo/sc_bunkyo/?page=66\n"
     ]
    },
    {
     "name": "stderr",
     "output_type": "stream",
     "text": [
      " 39%|███▉      | 66/170 [02:25<03:28,  2.00s/it]"
     ]
    },
    {
     "name": "stdout",
     "output_type": "stream",
     "text": [
      "data_listの大きさ: 3569\n",
      "https://suumo.jp/chintai/tokyo/sc_bunkyo/?page=67\n"
     ]
    },
    {
     "name": "stderr",
     "output_type": "stream",
     "text": [
      " 39%|███▉      | 67/170 [02:27<03:23,  1.98s/it]"
     ]
    },
    {
     "name": "stdout",
     "output_type": "stream",
     "text": [
      "data_listの大きさ: 3605\n",
      "https://suumo.jp/chintai/tokyo/sc_bunkyo/?page=68\n"
     ]
    },
    {
     "name": "stderr",
     "output_type": "stream",
     "text": [
      " 40%|████      | 68/170 [02:29<03:23,  1.99s/it]"
     ]
    },
    {
     "name": "stdout",
     "output_type": "stream",
     "text": [
      "data_listの大きさ: 3644\n",
      "https://suumo.jp/chintai/tokyo/sc_bunkyo/?page=69\n"
     ]
    },
    {
     "name": "stderr",
     "output_type": "stream",
     "text": [
      " 41%|████      | 69/170 [02:31<03:25,  2.03s/it]"
     ]
    },
    {
     "name": "stdout",
     "output_type": "stream",
     "text": [
      "data_listの大きさ: 3685\n",
      "https://suumo.jp/chintai/tokyo/sc_bunkyo/?page=70\n"
     ]
    },
    {
     "name": "stderr",
     "output_type": "stream",
     "text": [
      " 41%|████      | 70/170 [02:34<03:24,  2.05s/it]"
     ]
    },
    {
     "name": "stdout",
     "output_type": "stream",
     "text": [
      "data_listの大きさ: 3745\n",
      "https://suumo.jp/chintai/tokyo/sc_bunkyo/?page=71\n"
     ]
    },
    {
     "name": "stderr",
     "output_type": "stream",
     "text": [
      " 42%|████▏     | 71/170 [02:35<03:18,  2.01s/it]"
     ]
    },
    {
     "name": "stdout",
     "output_type": "stream",
     "text": [
      "data_listの大きさ: 3780\n",
      "https://suumo.jp/chintai/tokyo/sc_bunkyo/?page=72\n"
     ]
    },
    {
     "name": "stderr",
     "output_type": "stream",
     "text": [
      " 42%|████▏     | 72/170 [02:37<03:17,  2.01s/it]"
     ]
    },
    {
     "name": "stdout",
     "output_type": "stream",
     "text": [
      "data_listの大きさ: 3824\n",
      "https://suumo.jp/chintai/tokyo/sc_bunkyo/?page=73\n"
     ]
    },
    {
     "name": "stderr",
     "output_type": "stream",
     "text": [
      " 43%|████▎     | 73/170 [02:39<03:12,  1.98s/it]"
     ]
    },
    {
     "name": "stdout",
     "output_type": "stream",
     "text": [
      "data_listの大きさ: 3868\n",
      "https://suumo.jp/chintai/tokyo/sc_bunkyo/?page=74\n"
     ]
    },
    {
     "name": "stderr",
     "output_type": "stream",
     "text": [
      " 44%|████▎     | 74/170 [02:41<03:07,  1.95s/it]"
     ]
    },
    {
     "name": "stdout",
     "output_type": "stream",
     "text": [
      "data_listの大きさ: 3903\n",
      "https://suumo.jp/chintai/tokyo/sc_bunkyo/?page=75\n"
     ]
    },
    {
     "name": "stderr",
     "output_type": "stream",
     "text": [
      " 44%|████▍     | 75/170 [02:43<03:09,  2.00s/it]"
     ]
    },
    {
     "name": "stdout",
     "output_type": "stream",
     "text": [
      "data_listの大きさ: 3942\n",
      "https://suumo.jp/chintai/tokyo/sc_bunkyo/?page=76\n"
     ]
    },
    {
     "name": "stderr",
     "output_type": "stream",
     "text": [
      " 45%|████▍     | 76/170 [02:45<03:05,  1.97s/it]"
     ]
    },
    {
     "name": "stdout",
     "output_type": "stream",
     "text": [
      "data_listの大きさ: 3981\n",
      "https://suumo.jp/chintai/tokyo/sc_bunkyo/?page=77\n"
     ]
    },
    {
     "name": "stderr",
     "output_type": "stream",
     "text": [
      " 45%|████▌     | 77/170 [02:47<03:04,  1.99s/it]"
     ]
    },
    {
     "name": "stdout",
     "output_type": "stream",
     "text": [
      "data_listの大きさ: 4017\n",
      "https://suumo.jp/chintai/tokyo/sc_bunkyo/?page=78\n"
     ]
    },
    {
     "name": "stderr",
     "output_type": "stream",
     "text": [
      " 46%|████▌     | 78/170 [02:49<03:03,  2.00s/it]"
     ]
    },
    {
     "name": "stdout",
     "output_type": "stream",
     "text": [
      "data_listの大きさ: 4068\n",
      "https://suumo.jp/chintai/tokyo/sc_bunkyo/?page=79\n"
     ]
    },
    {
     "name": "stderr",
     "output_type": "stream",
     "text": [
      " 46%|████▋     | 79/170 [02:51<03:04,  2.02s/it]"
     ]
    },
    {
     "name": "stdout",
     "output_type": "stream",
     "text": [
      "data_listの大きさ: 4103\n",
      "https://suumo.jp/chintai/tokyo/sc_bunkyo/?page=80\n"
     ]
    },
    {
     "name": "stderr",
     "output_type": "stream",
     "text": [
      " 47%|████▋     | 80/170 [02:53<03:02,  2.03s/it]"
     ]
    },
    {
     "name": "stdout",
     "output_type": "stream",
     "text": [
      "data_listの大きさ: 4138\n",
      "https://suumo.jp/chintai/tokyo/sc_bunkyo/?page=81\n"
     ]
    },
    {
     "name": "stderr",
     "output_type": "stream",
     "text": [
      " 48%|████▊     | 81/170 [02:56<03:02,  2.05s/it]"
     ]
    },
    {
     "name": "stdout",
     "output_type": "stream",
     "text": [
      "data_listの大きさ: 4173\n",
      "https://suumo.jp/chintai/tokyo/sc_bunkyo/?page=82\n"
     ]
    },
    {
     "name": "stderr",
     "output_type": "stream",
     "text": [
      " 48%|████▊     | 82/170 [02:58<02:58,  2.03s/it]"
     ]
    },
    {
     "name": "stdout",
     "output_type": "stream",
     "text": [
      "data_listの大きさ: 4204\n",
      "https://suumo.jp/chintai/tokyo/sc_bunkyo/?page=83\n"
     ]
    },
    {
     "name": "stderr",
     "output_type": "stream",
     "text": [
      " 49%|████▉     | 83/170 [02:59<02:54,  2.00s/it]"
     ]
    },
    {
     "name": "stdout",
     "output_type": "stream",
     "text": [
      "data_listの大きさ: 4238\n",
      "https://suumo.jp/chintai/tokyo/sc_bunkyo/?page=84\n"
     ]
    },
    {
     "name": "stderr",
     "output_type": "stream",
     "text": [
      " 49%|████▉     | 84/170 [03:01<02:50,  1.98s/it]"
     ]
    },
    {
     "name": "stdout",
     "output_type": "stream",
     "text": [
      "data_listの大きさ: 4274\n",
      "https://suumo.jp/chintai/tokyo/sc_bunkyo/?page=85\n"
     ]
    },
    {
     "name": "stderr",
     "output_type": "stream",
     "text": [
      " 50%|█████     | 85/170 [03:03<02:48,  1.98s/it]"
     ]
    },
    {
     "name": "stdout",
     "output_type": "stream",
     "text": [
      "data_listの大きさ: 4312\n",
      "https://suumo.jp/chintai/tokyo/sc_bunkyo/?page=86\n"
     ]
    },
    {
     "name": "stderr",
     "output_type": "stream",
     "text": [
      " 51%|█████     | 86/170 [03:05<02:46,  1.98s/it]"
     ]
    },
    {
     "name": "stdout",
     "output_type": "stream",
     "text": [
      "data_listの大きさ: 4345\n",
      "https://suumo.jp/chintai/tokyo/sc_bunkyo/?page=87\n"
     ]
    },
    {
     "name": "stderr",
     "output_type": "stream",
     "text": [
      " 51%|█████     | 87/170 [03:07<02:44,  1.99s/it]"
     ]
    },
    {
     "name": "stdout",
     "output_type": "stream",
     "text": [
      "data_listの大きさ: 4385\n",
      "https://suumo.jp/chintai/tokyo/sc_bunkyo/?page=88\n"
     ]
    },
    {
     "name": "stderr",
     "output_type": "stream",
     "text": [
      " 52%|█████▏    | 88/170 [03:09<02:42,  1.98s/it]"
     ]
    },
    {
     "name": "stdout",
     "output_type": "stream",
     "text": [
      "data_listの大きさ: 4419\n",
      "https://suumo.jp/chintai/tokyo/sc_bunkyo/?page=89\n"
     ]
    },
    {
     "name": "stderr",
     "output_type": "stream",
     "text": [
      " 52%|█████▏    | 89/170 [03:11<02:40,  1.98s/it]"
     ]
    },
    {
     "name": "stdout",
     "output_type": "stream",
     "text": [
      "data_listの大きさ: 4456\n",
      "https://suumo.jp/chintai/tokyo/sc_bunkyo/?page=90\n"
     ]
    },
    {
     "name": "stderr",
     "output_type": "stream",
     "text": [
      " 53%|█████▎    | 90/170 [03:13<02:38,  1.99s/it]"
     ]
    },
    {
     "name": "stdout",
     "output_type": "stream",
     "text": [
      "data_listの大きさ: 4494\n",
      "https://suumo.jp/chintai/tokyo/sc_bunkyo/?page=91\n"
     ]
    },
    {
     "name": "stderr",
     "output_type": "stream",
     "text": [
      " 54%|█████▎    | 91/170 [03:15<02:35,  1.97s/it]"
     ]
    },
    {
     "name": "stdout",
     "output_type": "stream",
     "text": [
      "data_listの大きさ: 4525\n",
      "https://suumo.jp/chintai/tokyo/sc_bunkyo/?page=92\n"
     ]
    },
    {
     "name": "stderr",
     "output_type": "stream",
     "text": [
      " 54%|█████▍    | 92/170 [03:17<02:37,  2.02s/it]"
     ]
    },
    {
     "name": "stdout",
     "output_type": "stream",
     "text": [
      "data_listの大きさ: 4573\n",
      "https://suumo.jp/chintai/tokyo/sc_bunkyo/?page=93\n"
     ]
    },
    {
     "name": "stderr",
     "output_type": "stream",
     "text": [
      " 55%|█████▍    | 93/170 [03:19<02:34,  2.00s/it]"
     ]
    },
    {
     "name": "stdout",
     "output_type": "stream",
     "text": [
      "data_listの大きさ: 4599\n",
      "https://suumo.jp/chintai/tokyo/sc_bunkyo/?page=94\n"
     ]
    },
    {
     "name": "stderr",
     "output_type": "stream",
     "text": [
      " 55%|█████▌    | 94/170 [03:21<02:29,  1.97s/it]"
     ]
    },
    {
     "name": "stdout",
     "output_type": "stream",
     "text": [
      "data_listの大きさ: 4633\n",
      "https://suumo.jp/chintai/tokyo/sc_bunkyo/?page=95\n"
     ]
    },
    {
     "name": "stderr",
     "output_type": "stream",
     "text": [
      " 56%|█████▌    | 95/170 [03:23<02:26,  1.95s/it]"
     ]
    },
    {
     "name": "stdout",
     "output_type": "stream",
     "text": [
      "data_listの大きさ: 4668\n",
      "https://suumo.jp/chintai/tokyo/sc_bunkyo/?page=96\n"
     ]
    },
    {
     "name": "stderr",
     "output_type": "stream",
     "text": [
      " 56%|█████▋    | 96/170 [03:25<02:23,  1.94s/it]"
     ]
    },
    {
     "name": "stdout",
     "output_type": "stream",
     "text": [
      "data_listの大きさ: 4707\n",
      "https://suumo.jp/chintai/tokyo/sc_bunkyo/?page=97\n"
     ]
    },
    {
     "name": "stderr",
     "output_type": "stream",
     "text": [
      " 57%|█████▋    | 97/170 [03:27<02:22,  1.96s/it]"
     ]
    },
    {
     "name": "stdout",
     "output_type": "stream",
     "text": [
      "data_listの大きさ: 4737\n",
      "https://suumo.jp/chintai/tokyo/sc_bunkyo/?page=98\n"
     ]
    },
    {
     "name": "stderr",
     "output_type": "stream",
     "text": [
      " 58%|█████▊    | 98/170 [03:29<02:20,  1.95s/it]"
     ]
    },
    {
     "name": "stdout",
     "output_type": "stream",
     "text": [
      "data_listの大きさ: 4771\n",
      "https://suumo.jp/chintai/tokyo/sc_bunkyo/?page=99\n"
     ]
    },
    {
     "name": "stderr",
     "output_type": "stream",
     "text": [
      " 58%|█████▊    | 99/170 [03:31<02:17,  1.94s/it]"
     ]
    },
    {
     "name": "stdout",
     "output_type": "stream",
     "text": [
      "data_listの大きさ: 4799\n",
      "https://suumo.jp/chintai/tokyo/sc_bunkyo/?page=100\n"
     ]
    },
    {
     "name": "stderr",
     "output_type": "stream",
     "text": [
      " 59%|█████▉    | 100/170 [03:33<02:18,  1.98s/it]"
     ]
    },
    {
     "name": "stdout",
     "output_type": "stream",
     "text": [
      "data_listの大きさ: 4826\n",
      "https://suumo.jp/chintai/tokyo/sc_bunkyo/?page=101\n"
     ]
    },
    {
     "name": "stderr",
     "output_type": "stream",
     "text": [
      " 59%|█████▉    | 101/170 [03:35<02:15,  1.97s/it]"
     ]
    },
    {
     "name": "stdout",
     "output_type": "stream",
     "text": [
      "data_listの大きさ: 4851\n",
      "https://suumo.jp/chintai/tokyo/sc_bunkyo/?page=102\n"
     ]
    },
    {
     "name": "stderr",
     "output_type": "stream",
     "text": [
      " 60%|██████    | 102/170 [03:37<02:13,  1.96s/it]"
     ]
    },
    {
     "name": "stdout",
     "output_type": "stream",
     "text": [
      "data_listの大きさ: 4880\n",
      "https://suumo.jp/chintai/tokyo/sc_bunkyo/?page=103\n"
     ]
    },
    {
     "name": "stderr",
     "output_type": "stream",
     "text": [
      " 61%|██████    | 103/170 [03:39<02:14,  2.01s/it]"
     ]
    },
    {
     "name": "stdout",
     "output_type": "stream",
     "text": [
      "data_listの大きさ: 4907\n",
      "https://suumo.jp/chintai/tokyo/sc_bunkyo/?page=104\n"
     ]
    },
    {
     "name": "stderr",
     "output_type": "stream",
     "text": [
      " 61%|██████    | 104/170 [03:41<02:11,  1.99s/it]"
     ]
    },
    {
     "name": "stdout",
     "output_type": "stream",
     "text": [
      "data_listの大きさ: 4938\n",
      "https://suumo.jp/chintai/tokyo/sc_bunkyo/?page=105\n"
     ]
    },
    {
     "name": "stderr",
     "output_type": "stream",
     "text": [
      " 62%|██████▏   | 105/170 [03:43<02:09,  1.99s/it]"
     ]
    },
    {
     "name": "stdout",
     "output_type": "stream",
     "text": [
      "data_listの大きさ: 4982\n",
      "https://suumo.jp/chintai/tokyo/sc_bunkyo/?page=106\n"
     ]
    },
    {
     "name": "stderr",
     "output_type": "stream",
     "text": [
      " 62%|██████▏   | 106/170 [03:45<02:05,  1.96s/it]"
     ]
    },
    {
     "name": "stdout",
     "output_type": "stream",
     "text": [
      "data_listの大きさ: 5011\n",
      "https://suumo.jp/chintai/tokyo/sc_bunkyo/?page=107\n"
     ]
    },
    {
     "name": "stderr",
     "output_type": "stream",
     "text": [
      " 63%|██████▎   | 107/170 [03:47<02:01,  1.93s/it]"
     ]
    },
    {
     "name": "stdout",
     "output_type": "stream",
     "text": [
      "data_listの大きさ: 5036\n",
      "https://suumo.jp/chintai/tokyo/sc_bunkyo/?page=108\n"
     ]
    },
    {
     "name": "stderr",
     "output_type": "stream",
     "text": [
      " 64%|██████▎   | 108/170 [03:48<01:57,  1.89s/it]"
     ]
    },
    {
     "name": "stdout",
     "output_type": "stream",
     "text": [
      "data_listの大きさ: 5065\n",
      "https://suumo.jp/chintai/tokyo/sc_bunkyo/?page=109\n"
     ]
    },
    {
     "name": "stderr",
     "output_type": "stream",
     "text": [
      " 64%|██████▍   | 109/170 [03:50<01:55,  1.89s/it]"
     ]
    },
    {
     "name": "stdout",
     "output_type": "stream",
     "text": [
      "data_listの大きさ: 5085\n",
      "https://suumo.jp/chintai/tokyo/sc_bunkyo/?page=110\n"
     ]
    },
    {
     "name": "stderr",
     "output_type": "stream",
     "text": [
      " 65%|██████▍   | 110/170 [03:52<01:54,  1.91s/it]"
     ]
    },
    {
     "name": "stdout",
     "output_type": "stream",
     "text": [
      "data_listの大きさ: 5109\n",
      "https://suumo.jp/chintai/tokyo/sc_bunkyo/?page=111\n"
     ]
    },
    {
     "name": "stderr",
     "output_type": "stream",
     "text": [
      " 65%|██████▌   | 111/170 [03:54<01:53,  1.92s/it]"
     ]
    },
    {
     "name": "stdout",
     "output_type": "stream",
     "text": [
      "data_listの大きさ: 5134\n",
      "https://suumo.jp/chintai/tokyo/sc_bunkyo/?page=112\n"
     ]
    },
    {
     "name": "stderr",
     "output_type": "stream",
     "text": [
      " 66%|██████▌   | 112/170 [03:56<01:52,  1.94s/it]"
     ]
    },
    {
     "name": "stdout",
     "output_type": "stream",
     "text": [
      "data_listの大きさ: 5159\n",
      "https://suumo.jp/chintai/tokyo/sc_bunkyo/?page=113\n"
     ]
    },
    {
     "name": "stderr",
     "output_type": "stream",
     "text": [
      " 66%|██████▋   | 113/170 [03:58<01:51,  1.96s/it]"
     ]
    },
    {
     "name": "stdout",
     "output_type": "stream",
     "text": [
      "data_listの大きさ: 5183\n",
      "https://suumo.jp/chintai/tokyo/sc_bunkyo/?page=114\n"
     ]
    },
    {
     "name": "stderr",
     "output_type": "stream",
     "text": [
      " 67%|██████▋   | 114/170 [04:00<01:48,  1.93s/it]"
     ]
    },
    {
     "name": "stdout",
     "output_type": "stream",
     "text": [
      "data_listの大きさ: 5207\n",
      "https://suumo.jp/chintai/tokyo/sc_bunkyo/?page=115\n"
     ]
    },
    {
     "name": "stderr",
     "output_type": "stream",
     "text": [
      " 68%|██████▊   | 115/170 [04:02<01:47,  1.95s/it]"
     ]
    },
    {
     "name": "stdout",
     "output_type": "stream",
     "text": [
      "data_listの大きさ: 5231\n",
      "https://suumo.jp/chintai/tokyo/sc_bunkyo/?page=116\n"
     ]
    },
    {
     "name": "stderr",
     "output_type": "stream",
     "text": [
      " 68%|██████▊   | 116/170 [04:04<01:44,  1.93s/it]"
     ]
    },
    {
     "name": "stdout",
     "output_type": "stream",
     "text": [
      "data_listの大きさ: 5258\n",
      "https://suumo.jp/chintai/tokyo/sc_bunkyo/?page=117\n"
     ]
    },
    {
     "name": "stderr",
     "output_type": "stream",
     "text": [
      " 69%|██████▉   | 117/170 [04:06<01:42,  1.93s/it]"
     ]
    },
    {
     "name": "stdout",
     "output_type": "stream",
     "text": [
      "data_listの大きさ: 5280\n",
      "https://suumo.jp/chintai/tokyo/sc_bunkyo/?page=118\n"
     ]
    },
    {
     "name": "stderr",
     "output_type": "stream",
     "text": [
      " 69%|██████▉   | 118/170 [04:08<01:40,  1.94s/it]"
     ]
    },
    {
     "name": "stdout",
     "output_type": "stream",
     "text": [
      "data_listの大きさ: 5306\n",
      "https://suumo.jp/chintai/tokyo/sc_bunkyo/?page=119\n"
     ]
    },
    {
     "name": "stderr",
     "output_type": "stream",
     "text": [
      " 70%|███████   | 119/170 [04:10<01:38,  1.94s/it]"
     ]
    },
    {
     "name": "stdout",
     "output_type": "stream",
     "text": [
      "data_listの大きさ: 5328\n",
      "https://suumo.jp/chintai/tokyo/sc_bunkyo/?page=120\n"
     ]
    },
    {
     "name": "stderr",
     "output_type": "stream",
     "text": [
      " 71%|███████   | 120/170 [04:12<01:37,  1.94s/it]"
     ]
    },
    {
     "name": "stdout",
     "output_type": "stream",
     "text": [
      "data_listの大きさ: 5350\n",
      "https://suumo.jp/chintai/tokyo/sc_bunkyo/?page=121\n"
     ]
    },
    {
     "name": "stderr",
     "output_type": "stream",
     "text": [
      " 71%|███████   | 121/170 [04:14<01:34,  1.92s/it]"
     ]
    },
    {
     "name": "stdout",
     "output_type": "stream",
     "text": [
      "data_listの大きさ: 5379\n",
      "https://suumo.jp/chintai/tokyo/sc_bunkyo/?page=122\n"
     ]
    },
    {
     "name": "stderr",
     "output_type": "stream",
     "text": [
      " 72%|███████▏  | 122/170 [04:16<01:36,  2.01s/it]"
     ]
    },
    {
     "name": "stdout",
     "output_type": "stream",
     "text": [
      "data_listの大きさ: 5410\n",
      "https://suumo.jp/chintai/tokyo/sc_bunkyo/?page=123\n"
     ]
    },
    {
     "name": "stderr",
     "output_type": "stream",
     "text": [
      " 72%|███████▏  | 123/170 [04:18<01:33,  1.99s/it]"
     ]
    },
    {
     "name": "stdout",
     "output_type": "stream",
     "text": [
      "data_listの大きさ: 5434\n",
      "https://suumo.jp/chintai/tokyo/sc_bunkyo/?page=124\n"
     ]
    },
    {
     "name": "stderr",
     "output_type": "stream",
     "text": [
      " 73%|███████▎  | 124/170 [04:20<01:30,  1.98s/it]"
     ]
    },
    {
     "name": "stdout",
     "output_type": "stream",
     "text": [
      "data_listの大きさ: 5456\n",
      "https://suumo.jp/chintai/tokyo/sc_bunkyo/?page=125\n"
     ]
    },
    {
     "name": "stderr",
     "output_type": "stream",
     "text": [
      " 74%|███████▎  | 125/170 [04:22<01:28,  1.96s/it]"
     ]
    },
    {
     "name": "stdout",
     "output_type": "stream",
     "text": [
      "data_listの大きさ: 5485\n",
      "https://suumo.jp/chintai/tokyo/sc_bunkyo/?page=126\n"
     ]
    },
    {
     "name": "stderr",
     "output_type": "stream",
     "text": [
      " 74%|███████▍  | 126/170 [04:24<01:25,  1.93s/it]"
     ]
    },
    {
     "name": "stdout",
     "output_type": "stream",
     "text": [
      "data_listの大きさ: 5512\n",
      "https://suumo.jp/chintai/tokyo/sc_bunkyo/?page=127\n"
     ]
    },
    {
     "name": "stderr",
     "output_type": "stream",
     "text": [
      " 75%|███████▍  | 127/170 [04:26<01:27,  2.04s/it]"
     ]
    },
    {
     "name": "stdout",
     "output_type": "stream",
     "text": [
      "data_listの大きさ: 5537\n",
      "https://suumo.jp/chintai/tokyo/sc_bunkyo/?page=128\n"
     ]
    },
    {
     "name": "stderr",
     "output_type": "stream",
     "text": [
      " 75%|███████▌  | 128/170 [04:28<01:23,  2.00s/it]"
     ]
    },
    {
     "name": "stdout",
     "output_type": "stream",
     "text": [
      "data_listの大きさ: 5559\n",
      "https://suumo.jp/chintai/tokyo/sc_bunkyo/?page=129\n"
     ]
    },
    {
     "name": "stderr",
     "output_type": "stream",
     "text": [
      " 76%|███████▌  | 129/170 [04:30<01:21,  1.98s/it]"
     ]
    },
    {
     "name": "stdout",
     "output_type": "stream",
     "text": [
      "data_listの大きさ: 5582\n",
      "https://suumo.jp/chintai/tokyo/sc_bunkyo/?page=130\n"
     ]
    },
    {
     "name": "stderr",
     "output_type": "stream",
     "text": [
      " 76%|███████▋  | 130/170 [04:32<01:18,  1.97s/it]"
     ]
    },
    {
     "name": "stdout",
     "output_type": "stream",
     "text": [
      "data_listの大きさ: 5612\n",
      "https://suumo.jp/chintai/tokyo/sc_bunkyo/?page=131\n"
     ]
    },
    {
     "name": "stderr",
     "output_type": "stream",
     "text": [
      " 77%|███████▋  | 131/170 [04:34<01:17,  1.98s/it]"
     ]
    },
    {
     "name": "stdout",
     "output_type": "stream",
     "text": [
      "data_listの大きさ: 5643\n",
      "https://suumo.jp/chintai/tokyo/sc_bunkyo/?page=132\n"
     ]
    },
    {
     "name": "stderr",
     "output_type": "stream",
     "text": [
      " 78%|███████▊  | 132/170 [04:36<01:15,  1.98s/it]"
     ]
    },
    {
     "name": "stdout",
     "output_type": "stream",
     "text": [
      "data_listの大きさ: 5670\n",
      "https://suumo.jp/chintai/tokyo/sc_bunkyo/?page=133\n"
     ]
    },
    {
     "name": "stderr",
     "output_type": "stream",
     "text": [
      " 78%|███████▊  | 133/170 [04:37<01:11,  1.93s/it]"
     ]
    },
    {
     "name": "stdout",
     "output_type": "stream",
     "text": [
      "data_listの大きさ: 5691\n",
      "https://suumo.jp/chintai/tokyo/sc_bunkyo/?page=134\n"
     ]
    },
    {
     "name": "stderr",
     "output_type": "stream",
     "text": [
      " 79%|███████▉  | 134/170 [04:39<01:09,  1.93s/it]"
     ]
    },
    {
     "name": "stdout",
     "output_type": "stream",
     "text": [
      "data_listの大きさ: 5718\n",
      "https://suumo.jp/chintai/tokyo/sc_bunkyo/?page=135\n"
     ]
    },
    {
     "name": "stderr",
     "output_type": "stream",
     "text": [
      " 79%|███████▉  | 135/170 [04:41<01:06,  1.90s/it]"
     ]
    },
    {
     "name": "stdout",
     "output_type": "stream",
     "text": [
      "data_listの大きさ: 5747\n",
      "https://suumo.jp/chintai/tokyo/sc_bunkyo/?page=136\n"
     ]
    },
    {
     "name": "stderr",
     "output_type": "stream",
     "text": [
      " 80%|████████  | 136/170 [04:43<01:04,  1.90s/it]"
     ]
    },
    {
     "name": "stdout",
     "output_type": "stream",
     "text": [
      "data_listの大きさ: 5773\n",
      "https://suumo.jp/chintai/tokyo/sc_bunkyo/?page=137\n"
     ]
    },
    {
     "name": "stderr",
     "output_type": "stream",
     "text": [
      " 81%|████████  | 137/170 [04:45<01:02,  1.90s/it]"
     ]
    },
    {
     "name": "stdout",
     "output_type": "stream",
     "text": [
      "data_listの大きさ: 5806\n",
      "https://suumo.jp/chintai/tokyo/sc_bunkyo/?page=138\n"
     ]
    },
    {
     "name": "stderr",
     "output_type": "stream",
     "text": [
      " 81%|████████  | 138/170 [04:47<01:01,  1.93s/it]"
     ]
    },
    {
     "name": "stdout",
     "output_type": "stream",
     "text": [
      "data_listの大きさ: 5832\n",
      "https://suumo.jp/chintai/tokyo/sc_bunkyo/?page=139\n"
     ]
    },
    {
     "name": "stderr",
     "output_type": "stream",
     "text": [
      " 82%|████████▏ | 139/170 [04:49<00:59,  1.92s/it]"
     ]
    },
    {
     "name": "stdout",
     "output_type": "stream",
     "text": [
      "data_listの大きさ: 5856\n",
      "https://suumo.jp/chintai/tokyo/sc_bunkyo/?page=140\n"
     ]
    },
    {
     "name": "stderr",
     "output_type": "stream",
     "text": [
      " 82%|████████▏ | 140/170 [04:51<00:57,  1.93s/it]"
     ]
    },
    {
     "name": "stdout",
     "output_type": "stream",
     "text": [
      "data_listの大きさ: 5886\n",
      "https://suumo.jp/chintai/tokyo/sc_bunkyo/?page=141\n"
     ]
    },
    {
     "name": "stderr",
     "output_type": "stream",
     "text": [
      " 83%|████████▎ | 141/170 [04:53<00:56,  1.94s/it]"
     ]
    },
    {
     "name": "stdout",
     "output_type": "stream",
     "text": [
      "data_listの大きさ: 5915\n",
      "https://suumo.jp/chintai/tokyo/sc_bunkyo/?page=142\n"
     ]
    },
    {
     "name": "stderr",
     "output_type": "stream",
     "text": [
      " 84%|████████▎ | 142/170 [04:55<00:54,  1.95s/it]"
     ]
    },
    {
     "name": "stdout",
     "output_type": "stream",
     "text": [
      "data_listの大きさ: 5941\n",
      "https://suumo.jp/chintai/tokyo/sc_bunkyo/?page=143\n"
     ]
    },
    {
     "name": "stderr",
     "output_type": "stream",
     "text": [
      " 84%|████████▍ | 143/170 [04:57<00:53,  1.99s/it]"
     ]
    },
    {
     "name": "stdout",
     "output_type": "stream",
     "text": [
      "data_listの大きさ: 5970\n",
      "https://suumo.jp/chintai/tokyo/sc_bunkyo/?page=144\n"
     ]
    },
    {
     "name": "stderr",
     "output_type": "stream",
     "text": [
      " 85%|████████▍ | 144/170 [04:59<00:50,  1.96s/it]"
     ]
    },
    {
     "name": "stdout",
     "output_type": "stream",
     "text": [
      "data_listの大きさ: 5996\n",
      "https://suumo.jp/chintai/tokyo/sc_bunkyo/?page=145\n"
     ]
    },
    {
     "name": "stderr",
     "output_type": "stream",
     "text": [
      " 85%|████████▌ | 145/170 [05:01<00:49,  1.99s/it]"
     ]
    },
    {
     "name": "stdout",
     "output_type": "stream",
     "text": [
      "data_listの大きさ: 6024\n",
      "https://suumo.jp/chintai/tokyo/sc_bunkyo/?page=146\n"
     ]
    },
    {
     "name": "stderr",
     "output_type": "stream",
     "text": [
      " 86%|████████▌ | 146/170 [05:03<00:47,  1.98s/it]"
     ]
    },
    {
     "name": "stdout",
     "output_type": "stream",
     "text": [
      "data_listの大きさ: 6053\n",
      "https://suumo.jp/chintai/tokyo/sc_bunkyo/?page=147\n"
     ]
    },
    {
     "name": "stderr",
     "output_type": "stream",
     "text": [
      " 86%|████████▋ | 147/170 [05:05<00:44,  1.94s/it]"
     ]
    },
    {
     "name": "stdout",
     "output_type": "stream",
     "text": [
      "data_listの大きさ: 6080\n",
      "https://suumo.jp/chintai/tokyo/sc_bunkyo/?page=148\n"
     ]
    },
    {
     "name": "stderr",
     "output_type": "stream",
     "text": [
      " 87%|████████▋ | 148/170 [05:07<00:42,  1.93s/it]"
     ]
    },
    {
     "name": "stdout",
     "output_type": "stream",
     "text": [
      "data_listの大きさ: 6109\n",
      "https://suumo.jp/chintai/tokyo/sc_bunkyo/?page=149\n"
     ]
    },
    {
     "name": "stderr",
     "output_type": "stream",
     "text": [
      " 88%|████████▊ | 149/170 [05:08<00:40,  1.92s/it]"
     ]
    },
    {
     "name": "stdout",
     "output_type": "stream",
     "text": [
      "data_listの大きさ: 6132\n",
      "https://suumo.jp/chintai/tokyo/sc_bunkyo/?page=150\n"
     ]
    },
    {
     "name": "stderr",
     "output_type": "stream",
     "text": [
      " 88%|████████▊ | 150/170 [05:10<00:37,  1.89s/it]"
     ]
    },
    {
     "name": "stdout",
     "output_type": "stream",
     "text": [
      "data_listの大きさ: 6157\n",
      "https://suumo.jp/chintai/tokyo/sc_bunkyo/?page=151\n"
     ]
    },
    {
     "name": "stderr",
     "output_type": "stream",
     "text": [
      " 89%|████████▉ | 151/170 [05:12<00:35,  1.88s/it]"
     ]
    },
    {
     "name": "stdout",
     "output_type": "stream",
     "text": [
      "data_listの大きさ: 6184\n",
      "https://suumo.jp/chintai/tokyo/sc_bunkyo/?page=152\n"
     ]
    },
    {
     "name": "stderr",
     "output_type": "stream",
     "text": [
      " 89%|████████▉ | 152/170 [05:14<00:34,  1.91s/it]"
     ]
    },
    {
     "name": "stdout",
     "output_type": "stream",
     "text": [
      "data_listの大きさ: 6209\n",
      "https://suumo.jp/chintai/tokyo/sc_bunkyo/?page=153\n"
     ]
    },
    {
     "name": "stderr",
     "output_type": "stream",
     "text": [
      " 90%|█████████ | 153/170 [05:16<00:32,  1.92s/it]"
     ]
    },
    {
     "name": "stdout",
     "output_type": "stream",
     "text": [
      "data_listの大きさ: 6239\n",
      "https://suumo.jp/chintai/tokyo/sc_bunkyo/?page=154\n"
     ]
    },
    {
     "name": "stderr",
     "output_type": "stream",
     "text": [
      " 91%|█████████ | 154/170 [05:18<00:30,  1.91s/it]"
     ]
    },
    {
     "name": "stdout",
     "output_type": "stream",
     "text": [
      "data_listの大きさ: 6261\n",
      "https://suumo.jp/chintai/tokyo/sc_bunkyo/?page=155\n"
     ]
    },
    {
     "name": "stderr",
     "output_type": "stream",
     "text": [
      " 91%|█████████ | 155/170 [05:20<00:29,  1.93s/it]"
     ]
    },
    {
     "name": "stdout",
     "output_type": "stream",
     "text": [
      "data_listの大きさ: 6292\n",
      "https://suumo.jp/chintai/tokyo/sc_bunkyo/?page=156\n"
     ]
    },
    {
     "name": "stderr",
     "output_type": "stream",
     "text": [
      " 92%|█████████▏| 156/170 [05:22<00:26,  1.92s/it]"
     ]
    },
    {
     "name": "stdout",
     "output_type": "stream",
     "text": [
      "data_listの大きさ: 6314\n",
      "https://suumo.jp/chintai/tokyo/sc_bunkyo/?page=157\n"
     ]
    },
    {
     "name": "stderr",
     "output_type": "stream",
     "text": [
      " 92%|█████████▏| 157/170 [05:24<00:24,  1.91s/it]"
     ]
    },
    {
     "name": "stdout",
     "output_type": "stream",
     "text": [
      "data_listの大きさ: 6342\n",
      "https://suumo.jp/chintai/tokyo/sc_bunkyo/?page=158\n"
     ]
    },
    {
     "name": "stderr",
     "output_type": "stream",
     "text": [
      " 93%|█████████▎| 158/170 [05:26<00:22,  1.91s/it]"
     ]
    },
    {
     "name": "stdout",
     "output_type": "stream",
     "text": [
      "data_listの大きさ: 6362\n",
      "https://suumo.jp/chintai/tokyo/sc_bunkyo/?page=159\n"
     ]
    },
    {
     "name": "stderr",
     "output_type": "stream",
     "text": [
      " 94%|█████████▎| 159/170 [05:28<00:21,  1.92s/it]"
     ]
    },
    {
     "name": "stdout",
     "output_type": "stream",
     "text": [
      "data_listの大きさ: 6386\n",
      "https://suumo.jp/chintai/tokyo/sc_bunkyo/?page=160\n"
     ]
    },
    {
     "name": "stderr",
     "output_type": "stream",
     "text": [
      " 94%|█████████▍| 160/170 [05:29<00:19,  1.90s/it]"
     ]
    },
    {
     "name": "stdout",
     "output_type": "stream",
     "text": [
      "data_listの大きさ: 6413\n",
      "https://suumo.jp/chintai/tokyo/sc_bunkyo/?page=161\n"
     ]
    },
    {
     "name": "stderr",
     "output_type": "stream",
     "text": [
      " 95%|█████████▍| 161/170 [05:31<00:17,  1.90s/it]"
     ]
    },
    {
     "name": "stdout",
     "output_type": "stream",
     "text": [
      "data_listの大きさ: 6438\n",
      "https://suumo.jp/chintai/tokyo/sc_bunkyo/?page=162\n"
     ]
    },
    {
     "name": "stderr",
     "output_type": "stream",
     "text": [
      " 95%|█████████▌| 162/170 [05:33<00:15,  1.89s/it]"
     ]
    },
    {
     "name": "stdout",
     "output_type": "stream",
     "text": [
      "data_listの大きさ: 6460\n",
      "https://suumo.jp/chintai/tokyo/sc_bunkyo/?page=163\n"
     ]
    },
    {
     "name": "stderr",
     "output_type": "stream",
     "text": [
      " 96%|█████████▌| 163/170 [05:35<00:13,  1.91s/it]"
     ]
    },
    {
     "name": "stdout",
     "output_type": "stream",
     "text": [
      "data_listの大きさ: 6482\n",
      "https://suumo.jp/chintai/tokyo/sc_bunkyo/?page=164\n"
     ]
    },
    {
     "name": "stderr",
     "output_type": "stream",
     "text": [
      " 96%|█████████▋| 164/170 [05:37<00:11,  1.91s/it]"
     ]
    },
    {
     "name": "stdout",
     "output_type": "stream",
     "text": [
      "data_listの大きさ: 6507\n",
      "https://suumo.jp/chintai/tokyo/sc_bunkyo/?page=165\n"
     ]
    },
    {
     "name": "stderr",
     "output_type": "stream",
     "text": [
      " 97%|█████████▋| 165/170 [05:39<00:09,  1.90s/it]"
     ]
    },
    {
     "name": "stdout",
     "output_type": "stream",
     "text": [
      "data_listの大きさ: 6533\n",
      "https://suumo.jp/chintai/tokyo/sc_bunkyo/?page=166\n"
     ]
    },
    {
     "name": "stderr",
     "output_type": "stream",
     "text": [
      " 98%|█████████▊| 166/170 [05:41<00:07,  1.92s/it]"
     ]
    },
    {
     "name": "stdout",
     "output_type": "stream",
     "text": [
      "data_listの大きさ: 6558\n",
      "https://suumo.jp/chintai/tokyo/sc_bunkyo/?page=167\n"
     ]
    },
    {
     "name": "stderr",
     "output_type": "stream",
     "text": [
      " 98%|█████████▊| 167/170 [05:43<00:05,  1.99s/it]"
     ]
    },
    {
     "name": "stdout",
     "output_type": "stream",
     "text": [
      "data_listの大きさ: 6585\n",
      "https://suumo.jp/chintai/tokyo/sc_bunkyo/?page=168\n"
     ]
    },
    {
     "name": "stderr",
     "output_type": "stream",
     "text": [
      " 99%|█████████▉| 168/170 [05:45<00:03,  1.97s/it]"
     ]
    },
    {
     "name": "stdout",
     "output_type": "stream",
     "text": [
      "data_listの大きさ: 6612\n",
      "https://suumo.jp/chintai/tokyo/sc_bunkyo/?page=169\n"
     ]
    },
    {
     "name": "stderr",
     "output_type": "stream",
     "text": [
      " 99%|█████████▉| 169/170 [05:47<00:01,  1.97s/it]"
     ]
    },
    {
     "name": "stdout",
     "output_type": "stream",
     "text": [
      "data_listの大きさ: 6635\n",
      "https://suumo.jp/chintai/tokyo/sc_bunkyo/?page=170\n"
     ]
    },
    {
     "name": "stderr",
     "output_type": "stream",
     "text": [
      "100%|██████████| 170/170 [05:49<00:00,  2.05s/it]\n"
     ]
    }
   ],
   "source": [
    "# 正常にHTML情報が取得できれば以下のコードを実行\n",
    "if res.status_code == 200:\n",
    "\n",
    "    #文京区のSUUMO掲載物件全ページ情報を取得\n",
    "    for page in tqdm(range(1, last_page +1)): #for文の進捗を確認\n",
    "    #range(start, stop) 関数は、startから始まってstop-1までの数値のシーケンスを生成。stopの値自体はシーケンスに含まれないため +1で最後のページもスクレイピング。\n",
    "        target_url = url.format(page)\n",
    "        #ページ取得できているかの確認\n",
    "        print(\"data_listの大きさ:\",len(data_list))\n",
    "        print(target_url)\n",
    "\n",
    "        #requestを使ってURLにアクセス\n",
    "        res = requests.get(target_url)\n",
    "        #相手サイトの負荷軽減\n",
    "        sleep(1)\n",
    "        #文字化け防止\n",
    "        res.encoding = 'utf-8'\n",
    "        #取得したHTMLをBeautifulSoupで解析\n",
    "        soup = BeautifulSoup(res.text, 'html.parser')\n",
    "\n",
    "        #全ての物件情報取得\n",
    "        contents = soup.find_all('div', class_= 'cassetteitem')\n",
    "\n",
    "        #for文で物件・部屋情報取得\n",
    "        for content in contents:\n",
    "            #物件・部屋情報を解析\n",
    "            detail = content.find('div', class_='cassetteitem-detail')\n",
    "            table = content.find('table', class_='cassetteitem_other')\n",
    "\n",
    "            #物件情報から必要情報を取得\n",
    "            title = detail.find('div', class_='cassetteitem_content-title').text\n",
    "            address = detail.find('li', class_='cassetteitem_detail-col1').text\n",
    "            access = detail.find('li', class_='cassetteitem_detail-col2').text\n",
    "            age = detail.find('li', class_='cassetteitem_detail-col3').text\n",
    "\n",
    "            #部屋情報を取得\n",
    "            tr_tags = table.find_all('tr', class_='js-cassette_link')\n",
    "\n",
    "            #for文で部屋情報取得\n",
    "            for tr_tag in tr_tags:\n",
    "                #部屋情報から必要情報を取得\n",
    "                floor, price, first_fee, capacity = tr_tag.find_all('td')[2:6]\n",
    "                #さらに細かい情報取得\n",
    "                rent, administration = price.find_all('li')\n",
    "                deposit, gratuity = first_fee.find_all('li')\n",
    "                madori, menseki = capacity.find_all('li')\n",
    "                #取得した全ての情報を辞書に格納\n",
    "                data = {\n",
    "                    'title' : title,\n",
    "                    'address' : address,\n",
    "                    'access' : access,\n",
    "                    'age' : age,\n",
    "                    'floor': floor.text,\n",
    "                    'rent' : rent.text,\n",
    "                    'administration' : administration.text,\n",
    "                    'deposit' : deposit.text,\n",
    "                    'gratuity' : gratuity.text,\n",
    "                    'madori' : madori.text,\n",
    "                    'menseki' : menseki.text\n",
    "                }\n",
    "                #取得した辞書を格納\n",
    "                data_list.append(data)"
   ]
  },
  {
   "cell_type": "markdown",
   "metadata": {},
   "source": [
    "utf-8, utf-8-sig の違い\n",
    "https://qiita.com/showmurai/items/60d32006d13512ffeaff\n",
    "\n",
    "エンコードのコーデックに 'utf-8-sig' とすると、BOM有りの場合スキップして読み込んでくれる。\n",
    "BOM無しの場合はそのままUTF-8として読み込むことが可能。\n",
    "\n",
    "UTF-8 には BOM(Byte order mark)が付く場合がある。\n",
    "UTF-8にBOMを付けるのは、Windows'メモ帳'やExcel。LinuxやMacは基本的にBOM無しUTF-8で扱う。"
   ]
  },
  {
   "cell_type": "code",
   "execution_count": 8,
   "metadata": {},
   "outputs": [
    {
     "data": {
      "text/plain": [
       "{'title': '大和荘',\n",
       " 'address': '東京都文京区本駒込４',\n",
       " 'access': '\\nＪＲ山手線/田端駅 歩13分\\n都営三田線/千石駅 歩17分\\n東京メトロ南北線/本駒込駅 歩18分\\n',\n",
       " 'age': '\\n築63年\\n2階建\\n',\n",
       " 'floor': '\\r\\n\\t\\t\\t\\t\\t\\t\\t\\t\\t\\t\\t2階',\n",
       " 'rent': '3万円',\n",
       " 'administration': '2000円',\n",
       " 'deposit': '-',\n",
       " 'gratuity': '-',\n",
       " 'madori': 'ワンルーム',\n",
       " 'menseki': '8.2m2'}"
      ]
     },
     "execution_count": 8,
     "metadata": {},
     "output_type": "execute_result"
    }
   ],
   "source": [
    "#最後のインデックスを確認\n",
    "data_list[-1]"
   ]
  },
  {
   "cell_type": "code",
   "execution_count": 14,
   "metadata": {},
   "outputs": [
    {
     "name": "stdout",
     "output_type": "stream",
     "text": [
      "csv出力が完了しました\n"
     ]
    },
    {
     "data": {
      "text/html": [
       "<div>\n",
       "<style scoped>\n",
       "    .dataframe tbody tr th:only-of-type {\n",
       "        vertical-align: middle;\n",
       "    }\n",
       "\n",
       "    .dataframe tbody tr th {\n",
       "        vertical-align: top;\n",
       "    }\n",
       "\n",
       "    .dataframe thead th {\n",
       "        text-align: right;\n",
       "    }\n",
       "</style>\n",
       "<table border=\"1\" class=\"dataframe\">\n",
       "  <thead>\n",
       "    <tr style=\"text-align: right;\">\n",
       "      <th></th>\n",
       "      <th>title</th>\n",
       "      <th>address</th>\n",
       "      <th>access</th>\n",
       "      <th>age</th>\n",
       "      <th>floor</th>\n",
       "      <th>rent</th>\n",
       "      <th>administration</th>\n",
       "      <th>deposit</th>\n",
       "      <th>gratuity</th>\n",
       "      <th>madori</th>\n",
       "      <th>menseki</th>\n",
       "    </tr>\n",
       "  </thead>\n",
       "  <tbody>\n",
       "    <tr>\n",
       "      <th>0</th>\n",
       "      <td>フレンシア文京関口</td>\n",
       "      <td>東京都文京区関口１</td>\n",
       "      <td>東京メトロ有楽町線/江戸川橋駅 歩8分 東京メトロ東西線/早稲田駅 歩8分</td>\n",
       "      <td>築5年 13階建</td>\n",
       "      <td>5階</td>\n",
       "      <td>10.4万円</td>\n",
       "      <td>4000円</td>\n",
       "      <td>20.8万円</td>\n",
       "      <td>10.4万円</td>\n",
       "      <td>1K</td>\n",
       "      <td>25.31m2</td>\n",
       "    </tr>\n",
       "    <tr>\n",
       "      <th>1</th>\n",
       "      <td>フレンシア文京関口</td>\n",
       "      <td>東京都文京区関口１</td>\n",
       "      <td>東京メトロ有楽町線/江戸川橋駅 歩8分 東京メトロ東西線/早稲田駅 歩8分</td>\n",
       "      <td>築5年 13階建</td>\n",
       "      <td>3階</td>\n",
       "      <td>10.6万円</td>\n",
       "      <td>4000円</td>\n",
       "      <td>10.6万円</td>\n",
       "      <td>10.6万円</td>\n",
       "      <td>1K</td>\n",
       "      <td>25.31m2</td>\n",
       "    </tr>\n",
       "    <tr>\n",
       "      <th>2</th>\n",
       "      <td>フレンシア文京関口</td>\n",
       "      <td>東京都文京区関口１</td>\n",
       "      <td>東京メトロ有楽町線/江戸川橋駅 歩8分 東京メトロ東西線/早稲田駅 歩8分</td>\n",
       "      <td>築5年 13階建</td>\n",
       "      <td>4階</td>\n",
       "      <td>10.7万円</td>\n",
       "      <td>4000円</td>\n",
       "      <td>21.4万円</td>\n",
       "      <td>10.7万円</td>\n",
       "      <td>1K</td>\n",
       "      <td>25.31m2</td>\n",
       "    </tr>\n",
       "    <tr>\n",
       "      <th>3</th>\n",
       "      <td>フレンシア文京関口</td>\n",
       "      <td>東京都文京区関口１</td>\n",
       "      <td>東京メトロ有楽町線/江戸川橋駅 歩8分 東京メトロ東西線/早稲田駅 歩8分</td>\n",
       "      <td>築5年 13階建</td>\n",
       "      <td>5階</td>\n",
       "      <td>10.8万円</td>\n",
       "      <td>4000円</td>\n",
       "      <td>21.6万円</td>\n",
       "      <td>10.8万円</td>\n",
       "      <td>1K</td>\n",
       "      <td>25.31m2</td>\n",
       "    </tr>\n",
       "    <tr>\n",
       "      <th>4</th>\n",
       "      <td>フレンシア文京関口</td>\n",
       "      <td>東京都文京区関口１</td>\n",
       "      <td>東京メトロ有楽町線/江戸川橋駅 歩8分 東京メトロ東西線/早稲田駅 歩8分</td>\n",
       "      <td>築5年 13階建</td>\n",
       "      <td>6階</td>\n",
       "      <td>11.9万円</td>\n",
       "      <td>6000円</td>\n",
       "      <td>11.9万円</td>\n",
       "      <td>11.9万円</td>\n",
       "      <td>1LDK</td>\n",
       "      <td>30.15m2</td>\n",
       "    </tr>\n",
       "  </tbody>\n",
       "</table>\n",
       "</div>"
      ],
      "text/plain": [
       "       title    address                                    access         age  \\\n",
       "0  フレンシア文京関口  東京都文京区関口１   東京メトロ有楽町線/江戸川橋駅 歩8分 東京メトロ東西線/早稲田駅 歩8分     築5年 13階建    \n",
       "1  フレンシア文京関口  東京都文京区関口１   東京メトロ有楽町線/江戸川橋駅 歩8分 東京メトロ東西線/早稲田駅 歩8分     築5年 13階建    \n",
       "2  フレンシア文京関口  東京都文京区関口１   東京メトロ有楽町線/江戸川橋駅 歩8分 東京メトロ東西線/早稲田駅 歩8分     築5年 13階建    \n",
       "3  フレンシア文京関口  東京都文京区関口１   東京メトロ有楽町線/江戸川橋駅 歩8分 東京メトロ東西線/早稲田駅 歩8分     築5年 13階建    \n",
       "4  フレンシア文京関口  東京都文京区関口１   東京メトロ有楽町線/江戸川橋駅 歩8分 東京メトロ東西線/早稲田駅 歩8分     築5年 13階建    \n",
       "\n",
       "             floor    rent administration deposit gratuity madori  menseki  \n",
       "0               5階  10.4万円          4000円  20.8万円   10.4万円     1K  25.31m2  \n",
       "1               3階  10.6万円          4000円  10.6万円   10.6万円     1K  25.31m2  \n",
       "2               4階  10.7万円          4000円  21.4万円   10.7万円     1K  25.31m2  \n",
       "3               5階  10.8万円          4000円  21.6万円   10.8万円     1K  25.31m2  \n",
       "4               6階  11.9万円          6000円  11.9万円   11.9万円   1LDK  30.15m2  "
      ]
     },
     "execution_count": 14,
     "metadata": {},
     "output_type": "execute_result"
    }
   ],
   "source": [
    "#データフレームを作成\n",
    "df = pd.DataFrame(data_list)\n",
    "df2 = df.applymap(lambda x: re.sub('\\n', ' ', x)) #`\\n`を半角スペースに置換\n",
    "df3 = df2.applymap(lambda x: re.sub('\\r', ' ', x)) #`\\r`を半角スペースに置換\n",
    "df_Final = df3.applymap(lambda x: re.sub('\\t', ' ', x)) #`\\t`を半角スペースに置換\n",
    "df_Final.to_csv('SUUMO_bunkyo.csv', index=False, encoding='utf-8-sig')\n",
    "\n",
    "print(\"csv出力が完了しました\")\n",
    "\n",
    "#df.applymap() : データフレーム全体に対して、カッコ内の関数を適応\n",
    "#lambda x: re.sub('\\n', ' ', x)) : 引数で渡された`x`に対して、`\\n`を半角スペースに置換\n",
    "\n",
    "df_Final.head()"
   ]
  },
  {
   "cell_type": "code",
   "execution_count": 15,
   "metadata": {},
   "outputs": [
    {
     "data": {
      "text/plain": [
       "(6657, 11)"
      ]
     },
     "execution_count": 15,
     "metadata": {},
     "output_type": "execute_result"
    }
   ],
   "source": [
    "#dfの大きさ確認\n",
    "df.shape"
   ]
  },
  {
   "cell_type": "code",
   "execution_count": 16,
   "metadata": {},
   "outputs": [
    {
     "data": {
      "text/plain": [
       "3208"
      ]
     },
     "execution_count": 16,
     "metadata": {},
     "output_type": "execute_result"
    }
   ],
   "source": [
    "#物件名の重複を削除した場合の、dfの大きさを確認 = 物件数\n",
    "len(df.title.unique())"
   ]
  },
  {
   "cell_type": "markdown",
   "metadata": {},
   "source": [
    "スクレイピングエラーが発生する場合考えられる事項。\n",
    "\n",
    "以下、調べた結果\n",
    "- ウェブサイトのアンチスクレイピング機能\n",
    "    - 多くのウェブサイトは、スクレイピングを検出してブロックするための機能を備えている。頻繁なアクセスや一定のパターンのアクセスが検出されると、IPアドレスが一時的にブロックされることがある。\n",
    "\n",
    "- リクエストの制限\n",
    "    - サーバーは一定時間内のリクエスト数に制限を設けている場合がある。これに達すると、それ以上のリクエストは拒否されるか、エラーが返される。\n",
    "\n",
    "- タイムアウトエラー\n",
    "    - ネットワークの問題やサーバーの過負荷などにより、リクエストがタイムアウトすることがある。\n",
    "\n",
    "- ページ構造の変更\n",
    "    - スクレイピングしているウェブサイトがページの構造を変更した場合、コードが正しく機能しなくなることがある。\n",
    "\n",
    "- スクリプトのエラー\n",
    "    - スクリプト自体に問題がある場合。例えば、特定の条件下でエラーが発生する可能性があるコードなど。\n",
    "\n",
    "一般的には、ウェブサイトやサーバーのポリシーによって、一度のセッションで取得できるデータ量やリクエスト数に制限が設けられることがある。"
   ]
  },
  {
   "cell_type": "code",
   "execution_count": null,
   "metadata": {},
   "outputs": [],
   "source": []
  }
 ],
 "metadata": {
  "kernelspec": {
   "display_name": "base",
   "language": "python",
   "name": "python3"
  },
  "language_info": {
   "codemirror_mode": {
    "name": "ipython",
    "version": 3
   },
   "file_extension": ".py",
   "mimetype": "text/x-python",
   "name": "python",
   "nbconvert_exporter": "python",
   "pygments_lexer": "ipython3",
   "version": "3.11.4"
  },
  "orig_nbformat": 4
 },
 "nbformat": 4,
 "nbformat_minor": 2
}
